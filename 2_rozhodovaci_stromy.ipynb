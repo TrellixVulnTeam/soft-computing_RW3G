{
 "cells": [
  {
   "cell_type": "markdown",
   "metadata": {},
   "source": [
    "# Soft Computing"
   ]
  },
  {
   "cell_type": "markdown",
   "metadata": {},
   "source": [
    "## Cvičení 2 - Rozhodovací stromy (Decision Trees)\n",
    "\n",
    "**K čemu se využívá?**\n",
    "\n",
    "Metoda učení s učitelem, která se využívá pro klasifikaci (klasifikační stromy) a regresi (regresní stromy). Látka má přesah i do oblasti dolování dat (data mining), kde se využívá k predikci hodnoty proměnné.\n",
    "\n",
    "**Jak funguje?**\n",
    "\n",
    "lorem\n",
    "\n",
    "<img src=\"SOC2_soubory/decisiontree.jpg\" style=\"height:350px\">\n",
    "\n",
    "\n",
    "**Důležité termíny**\n",
    "\n",
    "* Entropie (Entropy) - míra neurčitosti/náhodnosti dat podle které rozhodovací pravidlo stromu dělí data\n",
    "* Informační zisk (Inforamtion gain) - míra snížení entropie po rozdělení dat rozhodovacím pravidlem\n",
    "* Giniho index (Gini index) -\n",
    "* Kořenový uzel (Root node) -\n",
    "* Rozhodovací uzel (Decision node) -\n",
    "* "
   ]
  },
  {
   "cell_type": "markdown",
   "metadata": {},
   "source": [
    "### On-site výuka"
   ]
  },
  {
   "cell_type": "markdown",
   "metadata": {},
   "source": [
    "#### 2.1 Klasifikační strom (from scratch)"
   ]
  },
  {
   "cell_type": "markdown",
   "metadata": {},
   "source": [
    "**vysvětlení atributů z datové sady**"
   ]
  },
  {
   "cell_type": "code",
   "execution_count": null,
   "metadata": {},
   "outputs": [],
   "source": [
    "#x1 = Wavelet transformed image variace\n",
    "#x2 = Wavelet transformed image skewness\n",
    "#x3 = Wavelet transformed image kurtosis\n",
    "#x4 = image entropy\n",
    "#x5 = třída\n",
    "bank_note = [3.6216, 8.6661, -2.8073, -0.44699, 0]"
   ]
  },
  {
   "cell_type": "markdown",
   "metadata": {},
   "source": [
    "### Domácí cvičení"
   ]
  },
  {
   "cell_type": "markdown",
   "metadata": {},
   "source": [
    "#### D2.4 Možnosti SVM modulu\n",
    "\n",
    "Projděte si článek v manuálu k SVM modulu z balíčku scikit-learn a projděte si možnosti, které lze využít při klasifikaci (nebo regresi) pomocí SVM metody. Zajímavostí je například vložení vlastní jádrové funkce.\n",
    "\n",
    "[scikit-learn.org](https://scikit-learn.org/stable/modules/svm.html)"
   ]
  }
 ],
 "metadata": {
  "language_info": {
   "name": "python"
  },
  "orig_nbformat": 4
 },
 "nbformat": 4,
 "nbformat_minor": 2
}
