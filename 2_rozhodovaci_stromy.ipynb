{
 "cells": [
  {
   "cell_type": "markdown",
   "metadata": {},
   "source": [
    "# Soft Computing"
   ]
  },
  {
   "cell_type": "markdown",
   "metadata": {},
   "source": [
    "## Cvičení 2 - Rozhodovací stromy (Decision Trees)\n",
    "\n",
    "**K čemu se využívá?**\n",
    "\n",
    "Metoda učení s učitelem, která se využívá pro klasifikaci (klasifikační stromy) a regresi (regresní stromy). Látka má přesah i do oblasti dolování dat (data mining), kde se využívá k predikci hodnoty proměnné. Během učení modelu se rozhodovací strom učí rozhodovací pravidla pro dělení dat do tříd.\n",
    "\n",
    "**Princip klasifikace**\n",
    "\n",
    "<img src=\"SOC2_soubory/decisiontree.jpg\" style=\"height:350px\">\n",
    "\n",
    "<table>\n",
    "    <thead>\n",
    "        <th>Barva</th><th>Váha</th><th>Třída</th>\n",
    "    </thead>\n",
    "    <tr>\n",
    "        <td>Hnědá</td><td>500</td><td>Mědved</td>\n",
    "    </tr>\n",
    "    <tr>\n",
    "        <td>Šedivá</td><td>60</td><td>Vlk</td>\n",
    "    </tr>\n",
    "    <tr>\n",
    "        <td>Šedivá</td><td>4000</td><td>Slon</td>\n",
    "    </tr>\n",
    "    <tr>\n",
    "        <td>Žlutá</td><td>200</td><td>Tygr</td>\n",
    "    </tr>\n",
    "    <tr>\n",
    "        <td>Hnědá</td><td>600</td><td>Mědved</td>\n",
    "    </tr>\n",
    "</table>\n",
    "\n",
    "Cílem je nalézt taková pravidla (např.: Váha > 300), které maximalizují po rozdělení na subpopulace informační zisk (nebo jiný vybraný atribut). Pro prvotní rozdělení bude použito pravidlo s nejvyšším ziskem. Po získání informačního zisku klesne entropie. Cílem dalšího dělení subpopulací na menší subpopulace je minimalizace entropie.\n",
    "\n",
    "**Proces klasifikace**\n",
    "1. Získání datové sady\n",
    "2. Dělení datové sady na trénovací a testovací\n",
    "3. Vyber nejlepší atribut pro dělení na menší datové sady (informační zisk, Giniho index, ...)\n",
    "4. Rozděl datovou sadu na menší datové sady rozhodovacím pravidlem\n",
    "5. Rekurzivně opakuj bod 3 pro všechny potomky děleného uzlu\n",
    "6. Otestuj model na testovací sadě pomocí metrik\n",
    "7. Implementace modelu do kódu\n",
    "\n",
    "**Metody výběru atributu**\n",
    "1. Informační zisk = Rozdíl entropie před dělením datové sady a po rozdělení datové sady\n",
    "2. Poměr zisku = Preference atributů s velkým počtem rozdílných hodnot\n",
    "3. Giniho index = Poměr rozdělených prvků do větví (0 až 0.5), tzv. míra čistoty\n",
    "\n",
    "**Hyperparametry**\n",
    "1. Kritérium pro dělení na subpopulace (gini, entropy (=informační zisk))\n",
    "2. Rozdělovací strategie: best, random\n",
    "3. Maximální hloubka stromu (max_depth)\n",
    "4. Minimální počet vzorků, potřebných pro další dělení (min_samples_split=2)\n",
    "5. Minimální počet vzorků, které musí být v uzlu (min_samples_leaf=1)\n",
    "6. Kolek atributů je z celkového počtu atributů zkoumáno pro rozhodování (max_features)\n",
    "7. Odstranění větví s malou rozhodovací silou, tzv. Pruning (pre-pruning, post-pruning)\n",
    "8. \n",
    "\n",
    "**Náhodné lesy**\n",
    "\n",
    "Různé stromy mohou říct o různých prvcích, že náleží do různorodých tříd. Pro vyřešení této nejasnosti klasifikace se vytváří tzv. Náhodné lesy, které představují soustavu rozhodovacích stromů, kde každý strom provede zvlášť klasifikaci. Model lesa následně vybere na základě nejčastější klasifikaci jednu ze tříd. Tento přístup ke strojového učení používá například Kinect k Xbox360, kde les rozhoduje, která část těla představuje nohy, ruce, trup, hlavu, atd."
   ]
  },
  {
   "cell_type": "markdown",
   "metadata": {},
   "source": [
    "### Teorie\n",
    "\n",
    "**Zadání**\n",
    "1. Stáhněte si datovou sadu pro nějaká medicínská data (např.: charakteristiky nádorů)\n",
    "2. Vytvořte rozhodovací strom pro klasifikaci a nechte mu základní parametry\n",
    "3. Natrénujte model pomocí trénovacíh dat\n",
    "4. Ověřte přesnost klasifikace pomocí vhodné metriky na testovacíh datech\n",
    "5. Porovnejte přesnost klasifikace pomocí volby různorodých hyperparametrů\n",
    "6. Porovnejte přesnost klasifikace pomocí náhodného lesu"
   ]
  },
  {
   "cell_type": "code",
   "execution_count": null,
   "metadata": {},
   "outputs": [
    {
     "ename": "",
     "evalue": "",
     "output_type": "error",
     "traceback": [
      "\u001b[1;31mFailed to start the Kernel. \n",
      "Kernel Python 3.8.9 64-bit is not usable. Check the Jupyter output tab for more information. \n",
      "View Jupyter <a href='command:jupyter.viewOutput'>log</a> for further details."
     ]
    }
   ],
   "source": [
    "from sklearn.datasets import load_breast_cancer()"
   ]
  },
  {
   "cell_type": "markdown",
   "metadata": {},
   "source": [
    "#### 2.1 Klasifikační strom (from scratch)"
   ]
  },
  {
   "cell_type": "markdown",
   "metadata": {},
   "source": [
    "**vysvětlení atributů z datové sady**"
   ]
  },
  {
   "cell_type": "code",
   "execution_count": null,
   "metadata": {},
   "outputs": [],
   "source": [
    "#x1 = Wavelet transformed image variace\n",
    "#x2 = Wavelet transformed image skewness\n",
    "#x3 = Wavelet transformed image kurtosis\n",
    "#x4 = image entropy\n",
    "#x5 = třída\n",
    "bank_note = [3.6216, 8.6661, -2.8073, -0.44699, 0]"
   ]
  },
  {
   "cell_type": "markdown",
   "metadata": {},
   "source": [
    "#### 2.2 Klasifikační strom pomocí sklearn"
   ]
  },
  {
   "cell_type": "code",
   "execution_count": null,
   "metadata": {},
   "outputs": [],
   "source": [
    "from sklearn.datasets import make_blobs\n",
    "import matplotlib.pyplot as plt"
   ]
  },
  {
   "cell_type": "code",
   "execution_count": null,
   "metadata": {},
   "outputs": [],
   "source": [
    "X, y = make_blobs(n_samples=300, center=4, random_state=0, cluster_std=1.0)\n",
    "plt.scatter(X[:, 0], X[:, 1], c=y, s=50, cmap='rainbow')"
   ]
  },
  {
   "cell_type": "code",
   "execution_count": null,
   "metadata": {},
   "outputs": [],
   "source": [
    "from sklearn.tree import DecisionTreeClassifier"
   ]
  },
  {
   "cell_type": "code",
   "execution_count": null,
   "metadata": {},
   "outputs": [],
   "source": [
    "tree = DecisionTreeClassifier().fit(X, y)"
   ]
  },
  {
   "cell_type": "code",
   "execution_count": null,
   "metadata": {},
   "outputs": [],
   "source": [
    "def visualize_classifier(model, X, y, ax=None, cmap='rainbow'):\n",
    "    ax = ax or plt.gca()\n",
    "    ax.scatter(X[:,0], X[:,1], c=y, s=30, cmap=cmap, clim=(y.min(), y.max()), zorder=3)\n",
    "    ax.axis('tight')\n",
    "    ax.axis('off')\n",
    "    xlim = ax.get_xlim()\n",
    "    ylim = ax.get_ylim()\n",
    "\n",
    "    model.fit(X, y)\n",
    "    xx, yy = np.meshgrid(np.linspace(*xlim, num=200), np.linspace(*ylim, num=200))\n",
    "    Z = model.predict(np.c_[xx.ravel(), yy.ravel()]).reshape(xx.shape)\n",
    "\n",
    "    n_classes = len(np.unique(y))\n",
    "    contours = ax.contourf(xx, yy, Z, alpha=0.3, levels=np.arrange(n_classes+1)-0.5, \n",
    "                            cmap=cmap, clim=(y.lim(), y.max()), zorder=1)\n",
    "    ax.set(xlim=xlim, ylim=ylim)\n",
    "\n",
    "visualize_classifier(DecisionTreeClassifier(), X, y)"
   ]
  },
  {
   "cell_type": "markdown",
   "metadata": {},
   "source": [
    "#### 2.3 Klasifikační náhodný les"
   ]
  },
  {
   "cell_type": "code",
   "execution_count": null,
   "metadata": {},
   "outputs": [],
   "source": [
    "import numpy\n",
    "import matplotlib.pyplot as plt\n",
    "import seaborn as sns\n",
    "from sklearn.tree import DecisionTreeClassifier\n",
    "from sklearn.ensemble import BaggingClassifier"
   ]
  },
  {
   "cell_type": "code",
   "execution_count": null,
   "metadata": {},
   "outputs": [],
   "source": [
    "tree = DecisionTreeClassifier()\n",
    "bag = BaggingClassifier(tree, n_estimators=100, max_samples=0.8, random_state=1)\n",
    "bag.fit(X, y)\n",
    "visualize_classifier(bag, X, y)"
   ]
  },
  {
   "cell_type": "code",
   "execution_count": null,
   "metadata": {},
   "outputs": [],
   "source": [
    "from sklearn.ensemble import RandomForestClassifier"
   ]
  },
  {
   "cell_type": "code",
   "execution_count": null,
   "metadata": {},
   "outputs": [],
   "source": [
    "model = RandomForestClassifier(n_estimators=100, random_state=0)\n",
    "visualize_classifier(model, X, y)"
   ]
  },
  {
   "cell_type": "markdown",
   "metadata": {},
   "source": [
    "#### 2.4 Regresní náhodný les"
   ]
  },
  {
   "cell_type": "code",
   "execution_count": null,
   "metadata": {},
   "outputs": [],
   "source": []
  },
  {
   "cell_type": "markdown",
   "metadata": {},
   "source": [
    "#### 2.5 MNIST klasifikace"
   ]
  },
  {
   "cell_type": "code",
   "execution_count": null,
   "metadata": {},
   "outputs": [],
   "source": [
    "from sklearn.datasets import load_digits"
   ]
  },
  {
   "cell_type": "code",
   "execution_count": null,
   "metadata": {},
   "outputs": [],
   "source": [
    "digits = load_digits()\n",
    "digits.keys()"
   ]
  },
  {
   "cell_type": "code",
   "execution_count": null,
   "metadata": {},
   "outputs": [],
   "source": [
    "fig = plt.figure(figsize=(6, 6))\n",
    "fig.subplots_adjust(left=0, right=1, bottom=0, top=1, hspace=0.05, wspace=0.05)"
   ]
  },
  {
   "cell_type": "markdown",
   "metadata": {},
   "source": [
    "### On-site cvičení"
   ]
  },
  {
   "cell_type": "code",
   "execution_count": null,
   "metadata": {},
   "outputs": [],
   "source": [
    "from sklearn.datasets import load_breast_cancer\n",
    "from sklearn.tree import DecisionTreeClassifier\n",
    "from sklearn.ensemble import RandomForestClassifier\n",
    "from sklearn.model_selection import train_test_split\n",
    "from sklearn import tree\n",
    "import graphviz "
   ]
  },
  {
   "cell_type": "markdown",
   "metadata": {},
   "source": [
    "nahrání datové sady"
   ]
  },
  {
   "cell_type": "code",
   "execution_count": null,
   "metadata": {},
   "outputs": [],
   "source": [
    "data = load_breast_cancer()"
   ]
  },
  {
   "cell_type": "markdown",
   "metadata": {},
   "source": [
    "explorační analýza"
   ]
  },
  {
   "cell_type": "code",
   "execution_count": null,
   "metadata": {},
   "outputs": [],
   "source": [
    "X = data.data\n",
    "y = data.target\n",
    "y_names = data.target_names\n",
    "a_names = data.feature_names\n",
    "print(X)\n",
    "print(y)\n",
    "print(y_names)\n",
    "print(a_names)"
   ]
  },
  {
   "cell_type": "markdown",
   "metadata": {},
   "source": [
    "rozdělení datové sady na testovací a trénovací"
   ]
  },
  {
   "cell_type": "code",
   "execution_count": null,
   "metadata": {},
   "outputs": [],
   "source": [
    "X_train, X_test, y_train, y_test = train_test_split(X, y, test_size=1./3., shuffle=True)\n",
    "print(X_train)\n",
    "print(y_train)"
   ]
  },
  {
   "cell_type": "markdown",
   "metadata": {},
   "source": [
    "instantizace modelu"
   ]
  },
  {
   "cell_type": "code",
   "execution_count": null,
   "metadata": {},
   "outputs": [],
   "source": [
    "model = DecisionTreeClassifier(\n",
    "    #random_state=1,\n",
    "    criterion=\"entropy\",         #{gini, entropy}, default = gini\n",
    "    splitter=\"best\",             #{best, random}, default = best\n",
    "    max_depth=None,              #default = None\n",
    "    min_samples_split=2,         #default = 2\n",
    "    min_samples_leaf=1,          #default = 1\n",
    "    max_features=\"auto\",           #{int, float, auto, sqrt, log2}, default=None\n",
    "    max_leaf_nodes=None,         #default=None\n",
    "    min_impurity_decrease=0.0    #default=0.0\n",
    ")"
   ]
  },
  {
   "cell_type": "markdown",
   "metadata": {},
   "source": [
    "trénování modelu"
   ]
  },
  {
   "cell_type": "code",
   "execution_count": null,
   "metadata": {},
   "outputs": [],
   "source": [
    "model.fit(X_train, y_train)"
   ]
  },
  {
   "cell_type": "markdown",
   "metadata": {},
   "source": [
    "validace modelu"
   ]
  },
  {
   "cell_type": "code",
   "execution_count": null,
   "metadata": {},
   "outputs": [],
   "source": [
    "score = model.score(X_test, y_test)\n",
    "print(score)"
   ]
  },
  {
   "cell_type": "markdown",
   "metadata": {},
   "source": [
    "vizualizace modelu"
   ]
  },
  {
   "cell_type": "code",
   "execution_count": null,
   "metadata": {},
   "outputs": [],
   "source": [
    "dot_data = tree.export_graphviz(\n",
    "    model, \n",
    "    out_file=None,\n",
    "    feature_names=a_names,\n",
    "    class_names=y_names,\n",
    "    filled=True, \n",
    "    rounded=True,\n",
    "    special_characters=True\n",
    ")\n",
    "graph = graphviz.Source(dot_data)\n",
    "graph.render(\"Breast Cancer\")"
   ]
  },
  {
   "cell_type": "code",
   "execution_count": null,
   "metadata": {},
   "outputs": [],
   "source": [
    "!pip install dtreeviz"
   ]
  },
  {
   "cell_type": "code",
   "execution_count": null,
   "metadata": {},
   "outputs": [],
   "source": [
    "from dtreeviz.trees import dtreeviz\n",
    "\n",
    "viz = dtreeviz(model, X_train, y_train, feature_names=a_names, class_names=list(y_names))\n",
    "viz.save(\"Breast Cancer.svg\")"
   ]
  },
  {
   "cell_type": "markdown",
   "metadata": {},
   "source": [
    "náhodný les"
   ]
  },
  {
   "cell_type": "code",
   "execution_count": null,
   "metadata": {},
   "outputs": [],
   "source": [
    "model = RandomForestClassifier(\n",
    "    n_estimators=100,            #default = 100\n",
    "    bootstrap=True,              #default = False\n",
    "    n_jobs=1,                    #default = 1\n",
    "    warm_start=False,            #default = False\n",
    "    max_samples=None,            #default = None\n",
    "    criterion=\"entropy\",         #{gini, entropy}, default = gini\n",
    "    max_depth=None,              #default = None\n",
    "    min_samples_split=2,         #default = 2\n",
    "    min_samples_leaf=1,          #default = 1\n",
    "    max_features=\"auto\",         #{int, float, auto, sqrt, log2}, default=None\n",
    "    max_leaf_nodes=None,         #default=None\n",
    "    min_impurity_decrease=0.0    #default=0.0\n",
    ")"
   ]
  },
  {
   "cell_type": "code",
   "execution_count": null,
   "metadata": {},
   "outputs": [],
   "source": [
    "model.fit(X_train, y_train)"
   ]
  },
  {
   "cell_type": "code",
   "execution_count": null,
   "metadata": {},
   "outputs": [],
   "source": [
    "score = model.score(X_test, y_test)\n",
    "print(score)"
   ]
  }
 ],
 "metadata": {
  "interpreter": {
   "hash": "31f2aee4e71d21fbe5cf8b01ff0e069b9275f58929596ceb00d14d90e3e16cd6"
  },
  "kernelspec": {
   "display_name": "Python 3.8.9 64-bit",
   "language": "python",
   "name": "python3"
  },
  "language_info": {
   "name": "python",
   "version": "3.8.9"
  },
  "orig_nbformat": 4
 },
 "nbformat": 4,
 "nbformat_minor": 2
}
