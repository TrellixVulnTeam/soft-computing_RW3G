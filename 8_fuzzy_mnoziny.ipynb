{
 "cells": [
  {
   "cell_type": "markdown",
   "metadata": {},
   "source": [
    "# Soft Computing"
   ]
  },
  {
   "cell_type": "markdown",
   "metadata": {},
   "source": [
    "## Cvičení 8 - Fuzzy množiny"
   ]
  },
  {
   "cell_type": "markdown",
   "metadata": {},
   "source": [
    "Termín fuzzy odkazuje na objekty nebo jevy, které jsou nejisté nebo vágní ve své hodnotě. Například pokud se někdo zeptá, zda je vám teplo, nemusí být vždy odpověď zcela jasně ano (pravda, true, 1) nebo zcela jasně ne (nepravda, false, 0), ale může to být hodnota někde mezi. Nad těmito fuzzy objekty byla vybudována celá užitečná teorie pro kybernetiku a strojové učení, která se nazývá fuzzy logika (neurčitá/vágní logika). Základní matematickou strukturou je fuzzy množina.\n",
    "\n",
    "Člověk v každodenním životě neuvažuje nad hodnotami striktně binárně, proto cílem fuzzy logiky je emulovat lidské přemýšlení. Fuzzy množiny umožňují provádět fuzzy řízení (fuzzy controlling) nepřesným, ale výpočetně nenáročným a rychlým způsobem, které lze připodobnit k deduktivnímu uvažování člověka. Často ani jiná možnost není než fuzzy řízení využít, pokud máme k dispozici pouze vágní data.\n",
    "\n",
    "Systémy, které využívají fuzzy logiku se nazývají fuzzy systémy. Jejich typická architektura se skládá z následujících komponent:\n",
    "1. **Rule base** = sada pravidel typu IF-THEN, kterými se řídí rozhodovací proces a vytváří ho doménoví experti\n",
    "2. **Fuzzifier** = komponenta pro převod vstupů (především ze senzorů) do fuzzy množiny pomocí funkce příslušnosti\n",
    "3. **Interference Engine** = rozhoduje o tom, jaké z pravidel se má na základě stupně příslušnosti spustit z kódové báze\n",
    "4. **Defuzzifier** = komponenta pro převod fuzzy množin do konkrétní hodnoty\n",
    "\n",
    "Fuzzifikace vstupních hodnot (universum diskurzu) se provádí funkce příslušnosti (membership function). Nejvyužívanější funkce příslušnosti jsou:\n",
    "1. trojúhelníková\n",
    "2. lichoběžníková\n",
    "3. gaussovská\n",
    "4. singleton\n",
    "\n",
    "Využití fuzzy logiky je převážně v následujících oblastech:\n",
    "1. automotive systémy - ovládání dopravy, ovládání rychlosti\n",
    "2. expertní systémy - systémy pro podporu rozhodování v podniku nebo v lékařství\n",
    "3. řízení chemických systému - přidávání látek do vzorku, zvyšování teploty\n",
    "4. zpracování přirozeného jazyka - rychlé vyhledávání ve velké databázi\n",
    "5. neuro-fuzzy - urychlení učení neuronové sítě agregací dat"
   ]
  },
  {
   "cell_type": "markdown",
   "metadata": {},
   "source": [
    "### 8.1 Fuzzy množiny\n",
    "\n",
    "Fuzzy množiny jsou základní struktury pro fuzzy řízení. Oproti klasickým množinám mají fuzzy množiny tzv. stupeň příslušnosti/pravdivost (degree of membership, truth) k hodnotám. "
   ]
  },
  {
   "cell_type": "markdown",
   "metadata": {},
   "source": [
    "#### Cvičení\n",
    "\n",
    "Vytvořte váš vlastní model fuzzy množiny a proveďte operaci sjednocení nad dvěmi fuzzy množinami"
   ]
  },
  {
   "cell_type": "code",
   "execution_count": null,
   "metadata": {},
   "outputs": [],
   "source": []
  },
  {
   "cell_type": "markdown",
   "metadata": {},
   "source": [
    "#### Řešení"
   ]
  },
  {
   "cell_type": "code",
   "execution_count": 14,
   "metadata": {},
   "outputs": [
    {
     "name": "stdout",
     "output_type": "stream",
     "text": [
      "{'zima': 0.4, 'teplo': 0.5, 'peklo': 0.8}\n"
     ]
    }
   ],
   "source": [
    "#fuzzy množiny můžeme reprezentovat slovníkem\n",
    "jana = dict()\n",
    "milan = dict()\n",
    "pocasi = dict()\n",
    " \n",
    "#máme 2 fuzzy množiny nad universem diskurzu U = {zima, teplo, peklo} se stupněmi příslušnosti\n",
    "univerzum_diskurzu = [\"zima\", \"teplo\", \"peklo\"]\n",
    "jana = {\"zima\": 0.2, \"teplo\": 0.3, \"peklo\": 0.8}\n",
    "milan = {\"zima\": 0.4, \"teplo\": 0.5, \"peklo\": 0.3}\n",
    "\n",
    "#ukázka sjednocení 2 fuzzy množin\n",
    "#stupen_prislusnosti(Y)= max(stupen_prislusnosti(A), stupen_prislusnosti(B)) pro kazdou hodnotu\n",
    "for hodnota in univerzum_diskurzu:\n",
    "    jana_stupen_prislustnosti = jana[hodnota]\n",
    "    milan_stupen_prislusnosti = milan[hodnota]\n",
    " \n",
    "    if jana_stupen_prislustnosti > milan_stupen_prislusnosti:\n",
    "        pocasi[hodnota] = jana_stupen_prislustnosti\n",
    "    else:\n",
    "        pocasi[hodnota] = milan_stupen_prislusnosti\n",
    "         \n",
    "print(pocasi)"
   ]
  },
  {
   "cell_type": "markdown",
   "metadata": {},
   "source": [
    "#### Cvičení\n",
    "Napište kód, který provede sjednodcení nad libovolným počtem fuzzy množin."
   ]
  },
  {
   "cell_type": "code",
   "execution_count": null,
   "metadata": {},
   "outputs": [],
   "source": []
  },
  {
   "cell_type": "markdown",
   "metadata": {},
   "source": [
    "#### Řešení"
   ]
  },
  {
   "cell_type": "code",
   "execution_count": 15,
   "metadata": {},
   "outputs": [
    {
     "name": "stdout",
     "output_type": "stream",
     "text": [
      "{'zima': 0.4, 'teplo': 0.6, 'peklo': 0.8}\n"
     ]
    }
   ],
   "source": [
    "jana = dict()\n",
    "milan = dict()\n",
    "petra = dict()\n",
    "pocasi = dict()\n",
    " \n",
    "univerzum_diskurzu = [\"zima\", \"teplo\", \"peklo\"]\n",
    "jana = {\"zima\": 0.2, \"teplo\": 0.3, \"peklo\": 0.8}\n",
    "milan = {\"zima\": 0.4, \"teplo\": 0.5, \"peklo\": 0.3}\n",
    "petra = {\"zima\": 0.3, \"teplo\": 0.6, \"peklo\": 0.5}\n",
    "mnoziny = [jana, milan, petra]\n",
    "\n",
    "for hodnota in univerzum_diskurzu:\n",
    "    pocasi[hodnota] = max([mnozina[hodnota] for mnozina in mnoziny])\n",
    "         \n",
    "print(pocasi)"
   ]
  },
  {
   "cell_type": "markdown",
   "metadata": {},
   "source": [
    "### 8.2 Fuzzy operace"
   ]
  },
  {
   "cell_type": "markdown",
   "metadata": {},
   "source": [
    "#### Cvičení\n",
    "\n",
    "V předchozím kódu jste viděli provedení fuzzy operace sjednocení nad dvěmi fuzzy množinami. Napište funkce, které provedou následující fuzzy operace podle jejich definic z přednášek:\n",
    "1. sjednocení (už hotové)\n",
    "2. průnik\n",
    "3. rozdíl\n",
    "4. doplněk"
   ]
  },
  {
   "cell_type": "code",
   "execution_count": null,
   "metadata": {},
   "outputs": [],
   "source": [
    "def fuzzy_sjednoceni(A, B):\n",
    "    ...\n",
    "\n",
    "A = {\"a\": 0.2, \"b\": 0.3, \"c\": 0.6, \"d\": 0.6}\n",
    "B = {\"a\": 0.9, \"b\": 0.9, \"c\": 0.4, \"d\": 0.5}\n",
    "print(fuzzy_sjednoceni(A, B))"
   ]
  },
  {
   "cell_type": "code",
   "execution_count": null,
   "metadata": {},
   "outputs": [],
   "source": [
    "def fuzzy_prunik(A, B):\n",
    "    ...\n",
    "\n",
    "A = {\"a\": 0.2, \"b\": 0.3, \"c\": 0.6, \"d\": 0.6}\n",
    "B = {\"a\": 0.9, \"b\": 0.9, \"c\": 0.4, \"d\": 0.5}\n",
    "print(fuzzy_prunik(A, B))"
   ]
  },
  {
   "cell_type": "code",
   "execution_count": null,
   "metadata": {},
   "outputs": [],
   "source": [
    "def fuzzy_rozdil(A, B):\n",
    "    ...\n",
    "\n",
    "A = {\"a\": 0.2, \"b\": 0.3, \"c\": 0.6, \"d\": 0.6}\n",
    "B = {\"a\": 0.9, \"b\": 0.9, \"c\": 0.4, \"d\": 0.5}\n",
    "print(fuzzy_rozdil(A, B))"
   ]
  },
  {
   "cell_type": "code",
   "execution_count": null,
   "metadata": {},
   "outputs": [],
   "source": [
    "def fuzzy_doplnek(A):\n",
    "    ...\n",
    "\n",
    "A = {\"a\": 0.2, \"b\": 0.3, \"c\": 0.6, \"d\": 0.6}\n",
    "print(fuzzy_doplnek(A))"
   ]
  },
  {
   "cell_type": "markdown",
   "metadata": {},
   "source": [
    "#### Řešení"
   ]
  },
  {
   "cell_type": "code",
   "execution_count": 4,
   "metadata": {},
   "outputs": [
    {
     "name": "stdout",
     "output_type": "stream",
     "text": [
      "{'a': 0.9, 'b': 0.9, 'c': 0.6, 'd': 0.6}\n"
     ]
    }
   ],
   "source": [
    "def fuzzy_sjednoceni(A, B):\n",
    "    Y = dict()\n",
    "    for A_key, B_key in zip(A, B):\n",
    "        A_value = A[A_key]\n",
    "        B_value = B[B_key]\n",
    "    \n",
    "        if A_value > B_value:\n",
    "            Y[A_key] = A_value\n",
    "        else:\n",
    "            Y[B_key] = B_value\n",
    "    return Y\n",
    "\n",
    "A = {\"a\": 0.2, \"b\": 0.3, \"c\": 0.6, \"d\": 0.6}\n",
    "B = {\"a\": 0.9, \"b\": 0.9, \"c\": 0.4, \"d\": 0.5}\n",
    "print(fuzzy_sjednoceni(A, B))"
   ]
  },
  {
   "cell_type": "code",
   "execution_count": null,
   "metadata": {},
   "outputs": [],
   "source": [
    "def fuzzy_sjednoceni(A, B):\n",
    "    Y = dict()\n",
    "    for A_key, B_key in zip(A, B):\n",
    "        A_value = A[A_key]\n",
    "        B_value = B[B_key]\n",
    "    \n",
    "        if A_value > B_value:\n",
    "            Y[A_key] = A_value\n",
    "        else:\n",
    "            Y[B_key] = B_value\n",
    "    return Y\n",
    "\n",
    "A = {\"a\": 0.2, \"b\": 0.3, \"c\": 0.6, \"d\": 0.6}\n",
    "B = {\"a\": 0.9, \"b\": 0.9, \"c\": 0.4, \"d\": 0.5}\n",
    "print(fuzzy_sjednoceni(A, B))"
   ]
  },
  {
   "cell_type": "code",
   "execution_count": 6,
   "metadata": {},
   "outputs": [
    {
     "name": "stdout",
     "output_type": "stream",
     "text": [
      "{'a': 0.2, 'b': 0.3, 'c': 0.4, 'd': 0.5}\n"
     ]
    }
   ],
   "source": [
    "def fuzzy_prunik(A, B):\n",
    "    Y = dict()\n",
    "    for A_key, B_key in zip(A, B):\n",
    "        A_value = A[A_key]\n",
    "        B_value = B[B_key]\n",
    "    \n",
    "        if A_value < B_value:\n",
    "            Y[A_key] = A_value\n",
    "        else:\n",
    "            Y[B_key] = B_value\n",
    "    return Y\n",
    "\n",
    "A = {\"a\": 0.2, \"b\": 0.3, \"c\": 0.6, \"d\": 0.6}\n",
    "B = {\"a\": 0.9, \"b\": 0.9, \"c\": 0.4, \"d\": 0.5}\n",
    "print(fuzzy_prunik(A, B))"
   ]
  },
  {
   "cell_type": "code",
   "execution_count": 8,
   "metadata": {},
   "outputs": [
    {
     "name": "stdout",
     "output_type": "stream",
     "text": [
      "{'a': 0.09999999999999998, 'b': 0.09999999999999998, 'c': 0.6, 'd': 0.5}\n"
     ]
    }
   ],
   "source": [
    "def fuzzy_rozdil(A, B):\n",
    "    Y = dict()\n",
    "    for A_key, B_key in zip(A, B):\n",
    "        A_value = A[A_key]\n",
    "        B_value = B[B_key]\n",
    "        B_value = 1 - B_value\n",
    "        \n",
    "        if A_value < B_value:\n",
    "            Y[A_key] = A_value\n",
    "        else:\n",
    "            Y[B_key] = B_value\n",
    "    return Y\n",
    "\n",
    "A = {\"a\": 0.2, \"b\": 0.3, \"c\": 0.6, \"d\": 0.6}\n",
    "B = {\"a\": 0.9, \"b\": 0.9, \"c\": 0.4, \"d\": 0.5}\n",
    "print(fuzzy_rozdil(A, B))"
   ]
  },
  {
   "cell_type": "code",
   "execution_count": 7,
   "metadata": {},
   "outputs": [
    {
     "name": "stdout",
     "output_type": "stream",
     "text": [
      "{'a': 0.8, 'b': 0.7, 'c': 0.4, 'd': 0.4}\n"
     ]
    }
   ],
   "source": [
    "def fuzzy_doplnek(A):\n",
    "    Y = dict()\n",
    "    for A_key in A:\n",
    "        Y[A_key]= 1-A[A_key]\n",
    "    return Y\n",
    "\n",
    "A = {\"a\": 0.2, \"b\": 0.3, \"c\": 0.6, \"d\": 0.6}\n",
    "print(fuzzy_doplnek(A))"
   ]
  },
  {
   "cell_type": "markdown",
   "metadata": {},
   "source": [
    "### 8.3 Fuzzifikace\n",
    "\n",
    "Fuzzifikace slouží k získání fuzzy množin z číselných vstupů pro provádění fuzzy operací a fuzzy rozhodování interferenčním systémem o aplikaci pravidla z báze pravidel."
   ]
  },
  {
   "cell_type": "markdown",
   "metadata": {},
   "source": [
    "#### Cvičení\n",
    "\n",
    "Naprogramujte následující členské funkce (předpis naleznete zde na https://codecrucks.com/what-is-fuzzy-membership-function-complete-guide/) a fuzzifikujte množinu vstupních dat:\n",
    "1. Singleton\n",
    "2. Triangular\n",
    "3. Trapezoidal\n",
    "4. Gaussian\n",
    "5. Sigmoid\n",
    "\n"
   ]
  },
  {
   "cell_type": "code",
   "execution_count": null,
   "metadata": {},
   "outputs": [],
   "source": []
  },
  {
   "cell_type": "markdown",
   "metadata": {},
   "source": [
    "#### Řešení"
   ]
  },
  {
   "cell_type": "code",
   "execution_count": 17,
   "metadata": {},
   "outputs": [],
   "source": [
    "import numpy as np\n",
    "import matplotlib.pyplot as plt"
   ]
  },
  {
   "cell_type": "code",
   "execution_count": 26,
   "metadata": {},
   "outputs": [
    {
     "data": {
      "text/plain": [
       "[<matplotlib.lines.Line2D at 0x1272d45b0>]"
      ]
     },
     "execution_count": 26,
     "metadata": {},
     "output_type": "execute_result"
    },
    {
     "data": {
      "image/png": "[encoded data removed]",
      "text/plain": [
       "<Figure size 432x288 with 1 Axes>"
      ]
     },
     "metadata": {
      "needs_background": "light"
     },
     "output_type": "display_data"
    }
   ],
   "source": [
    "def singleton(x, c):\n",
    "    return [1 if xi == c else 0 for xi in x]\n",
    "\n",
    "roky = np.linspace(start=0, stop=50, num=51, endpoint=True)\n",
    "clovek_v_kristovych_letech = singleton(x=roky, c=33)\n",
    "\n",
    "plt.plot(roky, clovek_v_kristovych_letech)\n"
   ]
  },
  {
   "cell_type": "code",
   "execution_count": null,
   "metadata": {},
   "outputs": [],
   "source": [
    "def triangular(x, a, b, c):\n",
    "    if x < a:\n",
    "        return 0\n",
    "    elif a <= x < b:\n",
    "        return (x-a)/(b-a)\n",
    "    elif b <= x < c:\n",
    "        return (c-x)/(c-b)\n",
    "    else: # x <= c\n",
    "        return 0"
   ]
  },
  {
   "cell_type": "code",
   "execution_count": 31,
   "metadata": {},
   "outputs": [
    {
     "data": {
      "text/plain": [
       "[<matplotlib.lines.Line2D at 0x12746f0d0>]"
      ]
     },
     "execution_count": 31,
     "metadata": {},
     "output_type": "execute_result"
    },
    {
     "data": {
      "image/png": "[encoded data removed]",
      "text/plain": [
       "<Figure size 432x288 with 1 Axes>"
      ]
     },
     "metadata": {
      "needs_background": "light"
     },
     "output_type": "display_data"
    }
   ],
   "source": [
    "def triangular(x, a, b, c):\n",
    "    return [max([min([(xi-a)/(b-a),(c-xi)/(c-b)]), 0]) for xi in x]\n",
    "\n",
    "roky = np.linspace(start=0, stop=50, num=51, endpoint=True)\n",
    "mlady_clovek = triangular(x=roky, a=15, b = 25, c=40)\n",
    "\n",
    "plt.plot(roky, mlady_clovek)\n"
   ]
  },
  {
   "cell_type": "code",
   "execution_count": null,
   "metadata": {},
   "outputs": [],
   "source": [
    "def rectangular(x, a, b, c, d):\n",
    "    if x < a:\n",
    "        return 0\n",
    "    elif a <= x < b:\n",
    "        return (x-a)/(b-a)\n",
    "    elif b <= x < c:\n",
    "        return 1\n",
    "    elif c <= x < d:\n",
    "        return (d-x)/(d-c)\n",
    "    else: # x <= d\n",
    "        return 0\n",
    " "
   ]
  },
  {
   "cell_type": "code",
   "execution_count": 33,
   "metadata": {},
   "outputs": [
    {
     "data": {
      "text/plain": [
       "[<matplotlib.lines.Line2D at 0x127529fd0>]"
      ]
     },
     "execution_count": 33,
     "metadata": {},
     "output_type": "execute_result"
    },
    {
     "data": {
      "image/png": "[encoded data removed]",
      "text/plain": [
       "<Figure size 432x288 with 1 Axes>"
      ]
     },
     "metadata": {
      "needs_background": "light"
     },
     "output_type": "display_data"
    }
   ],
   "source": [
    "def rectangular(x, a, b, c, d):\n",
    "    return [max([min([(xi-a)/(b-a),1,(d-xi)/(d-c)]), 0]) for xi in x]\n",
    "\n",
    "roky = np.linspace(start=0, stop=70, num=71, endpoint=True)\n",
    "stary_mladenec = rectangular(x=roky, a=25, b = 35, c=45, d=60)\n",
    "\n",
    "plt.plot(roky, stary_mladenec)\n"
   ]
  },
  {
   "cell_type": "code",
   "execution_count": 35,
   "metadata": {},
   "outputs": [
    {
     "data": {
      "text/plain": [
       "[<matplotlib.lines.Line2D at 0x1276036d0>]"
      ]
     },
     "execution_count": 35,
     "metadata": {},
     "output_type": "execute_result"
    },
    {
     "data": {
      "image/png": "[encoded data removed]",
      "text/plain": [
       "<Figure size 432x288 with 1 Axes>"
      ]
     },
     "metadata": {
      "needs_background": "light"
     },
     "output_type": "display_data"
    }
   ],
   "source": [
    "def gaussian(x, mu, sigma):\n",
    "    return [np.exp(-0.5*((xi-mu)/sigma)**2) for xi in x]\n",
    "\n",
    "roky = np.linspace(start=0, stop=100, num=101, endpoint=True)\n",
    "vek_ucitelu_ki = gaussian(x=roky, mu=50, sigma=10)\n",
    "\n",
    "plt.plot(roky, vek_ucitelu_ki)"
   ]
  },
  {
   "cell_type": "code",
   "execution_count": 64,
   "metadata": {},
   "outputs": [
    {
     "data": {
      "text/plain": [
       "[<matplotlib.lines.Line2D at 0x132192bb0>]"
      ]
     },
     "execution_count": 64,
     "metadata": {},
     "output_type": "execute_result"
    },
    {
     "data": {
      "image/png": "[encoded data removed]",
      "text/plain": [
       "<Figure size 432x288 with 1 Axes>"
      ]
     },
     "metadata": {
      "needs_background": "light"
     },
     "output_type": "display_data"
    }
   ],
   "source": [
    "def sigmoid(x, alpha, beta):\n",
    "    return [1/(1 + np.exp(-alpha*(xi-beta))) for xi in x]\n",
    "\n",
    "roky = np.linspace(start=-10, stop=40, num=201, endpoint=True)\n",
    "vedro = sigmoid(x=roky, alpha=0.5, beta=20)\n",
    "\n",
    "plt.plot(roky, vedro)\n"
   ]
  },
  {
   "cell_type": "markdown",
   "metadata": {},
   "source": [
    "#### Cvičení\n",
    "Upravte vaše operace nad fuzzy množinami, ať jsou schopný přijmout množiny definované členskou funkcí a ujistěte se, že množiny splňují všechny následující vlastnosti (idempotence, transitivita, atd): https://www.tutorialspoint.com/fuzzy_logic/fuzzy_logic_set_theory.htm"
   ]
  },
  {
   "cell_type": "code",
   "execution_count": null,
   "metadata": {},
   "outputs": [],
   "source": []
  },
  {
   "cell_type": "markdown",
   "metadata": {},
   "source": [
    "#### Řešení"
   ]
  },
  {
   "cell_type": "code",
   "execution_count": null,
   "metadata": {},
   "outputs": [],
   "source": []
  },
  {
   "cell_type": "markdown",
   "metadata": {},
   "source": [
    "### 8.4 Defuzzifikace"
   ]
  },
  {
   "cell_type": "markdown",
   "metadata": {},
   "source": [
    "#### Cvičení\n",
    "\n",
    "Naprogramujte si (na základě předpisu z https://www.tutorialspoint.com/fuzzy_logic/fuzzy_logic_membership_function.htm) následující defuzzifikační metody:\n",
    "1. Max-membership\n",
    "2. Centroid\n",
    "3. Weighted average\n",
    "4. Mean-Max\n"
   ]
  },
  {
   "cell_type": "code",
   "execution_count": 70,
   "metadata": {},
   "outputs": [
    {
     "data": {
      "text/plain": [
       "<matplotlib.collections.LineCollection at 0x132304910>"
      ]
     },
     "execution_count": 70,
     "metadata": {},
     "output_type": "execute_result"
    },
    {
     "data": {
      "image/png": "[encoded data removed]",
      "text/plain": [
       "<Figure size 432x288 with 1 Axes>"
      ]
     },
     "metadata": {
      "needs_background": "light"
     },
     "output_type": "display_data"
    }
   ],
   "source": [
    "def max_membership(fuzzy_mnozina):\n",
    "    return max(fuzzy_mnozina)\n",
    "\n",
    "roky = np.linspace(start=0, stop=70, num=71, endpoint=True)\n",
    "stary_mladenec = rectangular(x=roky, a=25, b = 35, c=45, d=60)\n",
    "vysledna_hodnota = np.where(stary_mladenec == max_membership(fuzzy_mnozina = stary_mladenec))\n",
    "\n",
    "plt.plot(roky, stary_mladenec, \"b\")\n",
    "plt.vlines(x=vysledna_hodnota, ymin=0, ymax=1, colors=[\"r\"])"
   ]
  },
  {
   "cell_type": "markdown",
   "metadata": {},
   "source": [
    "#### Řešení"
   ]
  },
  {
   "cell_type": "code",
   "execution_count": null,
   "metadata": {},
   "outputs": [],
   "source": []
  },
  {
   "cell_type": "markdown",
   "metadata": {},
   "source": [
    "#### 8.5 Báze pravidel"
   ]
  },
  {
   "cell_type": "markdown",
   "metadata": {},
   "source": [
    "#### Cvičení"
   ]
  },
  {
   "cell_type": "code",
   "execution_count": null,
   "metadata": {},
   "outputs": [],
   "source": []
  },
  {
   "cell_type": "markdown",
   "metadata": {},
   "source": [
    "#### Řešení"
   ]
  },
  {
   "cell_type": "code",
   "execution_count": null,
   "metadata": {},
   "outputs": [],
   "source": []
  },
  {
   "cell_type": "markdown",
   "metadata": {},
   "source": [
    "### 8.6 Inferefenční systémy\n",
    "\n",
    "https://github.com/amogorkon/fuzzylogic/blob/master/docs/Showcase.ipynb"
   ]
  },
  {
   "cell_type": "markdown",
   "metadata": {},
   "source": [
    "#### Cvičení"
   ]
  },
  {
   "cell_type": "code",
   "execution_count": null,
   "metadata": {},
   "outputs": [],
   "source": []
  },
  {
   "cell_type": "markdown",
   "metadata": {},
   "source": [
    "#### Řešení"
   ]
  },
  {
   "cell_type": "code",
   "execution_count": null,
   "metadata": {},
   "outputs": [],
   "source": []
  }
 ],
 "metadata": {
  "interpreter": {
   "hash": "bc3c83880fae640cb7980c4f56d19545fc69dc40db0948a29b0ceca08437646b"
  },
  "kernelspec": {
   "display_name": "Python 3.9.10 ('venv': venv)",
   "language": "python",
   "name": "python3"
  },
  "language_info": {
   "codemirror_mode": {
    "name": "ipython",
    "version": 3
   },
   "file_extension": ".py",
   "mimetype": "text/x-python",
   "name": "python",
   "nbconvert_exporter": "python",
   "pygments_lexer": "ipython3",
   "version": "3.9.10"
  },
  "orig_nbformat": 4
 },
 "nbformat": 4,
 "nbformat_minor": 2
}
