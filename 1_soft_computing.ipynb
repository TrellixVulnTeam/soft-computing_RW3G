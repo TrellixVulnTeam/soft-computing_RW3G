{
 "cells": [
  {
   "cell_type": "markdown",
   "metadata": {},
   "source": [
    "# Soft Computing"
   ]
  },
  {
   "cell_type": "markdown",
   "metadata": {},
   "source": [
    "https://towardsdatascience.com/scale-standardize-or-normalize-with-scikit-learn-6ccc7d176a02"
   ]
  },
  {
   "cell_type": "markdown",
   "metadata": {},
   "source": [
    "### On-site cvičení\n",
    "\n",
    "V tomto cvičení se bude rozebírat zejména termín Soft Computing a jeho techniky. Mentální obrázek myšlenky tohoto nově vznikajícího oboru je dobré mít na paměti během všech cvičení, ať se znalosti lépe asimilují do znalostní struktury studenta. Na závěr cvičení se podíváme na několik základních technik z oblasti statistiky pro analýzu dat, které v následujících hodinách nahradíme technikama Soft Computingu (například regrese).\n",
    "\n",
    "Zdroje:\n",
    "* [vesmir.cz](https://vesmir.cz/cz/casopis/archiv-casopisu/2000/cislo-12/soft-computing.html)\n",
    "* [javatpoint.com](https://www.javatpoint.com/what-is-soft-computing)"
   ]
  },
  {
   "cell_type": "markdown",
   "metadata": {},
   "source": [
    "#### 1.1 Soft Computing (podle L. Zadeha)\n",
    "\n",
    "<img src=\"SOC1_soubory/soft.jpg\" style=\"height:250px\">"
   ]
  },
  {
   "cell_type": "markdown",
   "metadata": {},
   "source": [
    "**Princip neslučitelnosti**\n",
    "\n",
    "Naše poznání reálného světa je plné nepřesnosti, potřebné informace jsou často nedostupné, analyzované systémy nepřesně či neúplně definované (např. v ekonomii, plánování, živých systémech či společenských systémech). Problémy právě nastíněného typu se neslučují s ideálem exaktního optimálního řešení. Optimální řešení buďto neexistují, nebo jsou nezajímavá či příliš nákladná; je třeba učit se toleranci a hledat řešení, která jsou dostatečně dobrá.\n",
    "\n",
    "Jsou známy přesné (diferenciální) rovnice popisující zcela přesně nejlepší cestu, po níž by mělo vaše auto jet, aby v dané situaci optimálně zaparkovalo. Tuto rovnici ale určitě při parkování nepoužijete; stačí pár přibližných pravidel jako „teď při couvání zahnu hodně doleva“ apod.\n",
    "\n",
    "**Definice Soft Computingu**\n",
    "\n",
    "Soft computing (SC) je spojení výpočtových metodologií, jako jsou zejména fuzzy logika, neuropočítání, genetické (evoluční) počítání a pravděpodobnostní počítání. Metodologie zahrnující soft computing jsou ponejvíce komplementární a synergistické, spíše než konkurenční. Vedoucím principem SC je využití tolerance vůči nepřesnosti, nejistotě, částečné pravdě a aproximaci k dosažení zvládnutelnosti, robustnosti, nižší ceny řešení a lepšího souhlasu s realitou. \n",
    "\n",
    "**Hard Computing vs. Soft Computing**\n",
    "\n",
    "<table>\n",
    "<tr>\n",
    "    <th></th><th>Hard computing</th><th>Soft computing</th>\n",
    "</tr>\n",
    "<tr>\n",
    "    <th>Výpočetní náročnost (čas):</th><td>Náročný</td><td>Méně náročný</td>\n",
    "</tr>\n",
    "<tr>\n",
    "    <th>Výpočetní typ:</th><td>Sériový</td><td>Paralelní</td>\n",
    "</tr>\n",
    "<tr>\n",
    "    <th>Typ výstupu:</th><td>Exaktní</td><td>Aproximovaný</td>\n",
    "</tr>\n",
    "<tr>\n",
    "    <th>Příklad technik:</th><td>Numerické</td><td>Fuzzy, Evoluční, Statistické</td>\n",
    "</tr>\n",
    "</table>"
   ]
  },
  {
   "cell_type": "markdown",
   "metadata": {},
   "source": [
    "#### 1.2 Úlohy strojového učení\n",
    "\n",
    "Strojové učení je hlavní soustava metod, které Soft Computing používá. Strojové učení můžeme rozdělit do 3 velkých kategorií (v další kapitole je jemnější dělení) a to s učitelem, bezučitele a zpětnovazební.\n",
    "\n",
    "<img src=\"SOC1_soubory/pristupy.png\" style=\"height:300px\">\n",
    "\n",
    "Tyto metody ze zmíněných kategorií umožňují řešit problémy, které rozdělujeme do tří typů: klasifikace, regrese a shlukování.\n",
    "\n",
    "* klasifikace = predikce správné kategorie ke vstupu (př. rozpoznání ručně psaných číslic)\n",
    "* regrese = predikce spojité hodnoty ke vstupu (př. predikce závažnosti rozvoje cukrovky podle BMI)\n",
    "* shlukování = shluknutí společných dat do klastrů podle podobnosti atributů\n",
    "\n",
    "<img src=\"SOC1_soubory/ulohy.png\" style=\"height:220px\">\n"
   ]
  },
  {
   "cell_type": "code",
   "execution_count": null,
   "metadata": {},
   "outputs": [],
   "source": [
    "!python3 -m pip install matplotlib"
   ]
  },
  {
   "cell_type": "code",
   "execution_count": null,
   "metadata": {},
   "outputs": [],
   "source": [
    "!python3 -m pip install numpy"
   ]
  },
  {
   "cell_type": "code",
   "execution_count": null,
   "metadata": {},
   "outputs": [],
   "source": [
    "!python3 -m pip install scikit-learn"
   ]
  },
  {
   "cell_type": "code",
   "execution_count": 75,
   "metadata": {},
   "outputs": [],
   "source": [
    "import matplotlib.pyplot as plt\n",
    "import numpy as np"
   ]
  },
  {
   "cell_type": "markdown",
   "metadata": {},
   "source": [
    "**Klasifikace**"
   ]
  },
  {
   "cell_type": "code",
   "execution_count": 58,
   "metadata": {},
   "outputs": [],
   "source": [
    "# Importování datových sad, modelu podpůrných vektorů a metriky pro analýzu\n",
    "from sklearn import datasets, svm, metrics\n",
    "\n",
    "# Importování nástroje pro snadné dělení dat na trénovací a testovací\n",
    "from sklearn.model_selection import train_test_split"
   ]
  },
  {
   "cell_type": "code",
   "execution_count": 78,
   "metadata": {},
   "outputs": [
    {
     "name": "stdout",
     "output_type": "stream",
     "text": [
      "[[ 0.  0.  1.  9. 15. 11.  0.  0.]\n",
      " [ 0.  0. 11. 16.  8. 14.  6.  0.]\n",
      " [ 0.  2. 16. 10.  0.  9.  9.  0.]\n",
      " [ 0.  1. 16.  4.  0.  8.  8.  0.]\n",
      " [ 0.  4. 16.  4.  0.  8.  8.  0.]\n",
      " [ 0.  1. 16.  5.  1. 11.  3.  0.]\n",
      " [ 0.  0. 12. 12. 10. 10.  0.  0.]\n",
      " [ 0.  0.  1. 10. 13.  3.  0.  0.]]\n",
      "0\n"
     ]
    }
   ],
   "source": [
    "#nahraní datové sady (číslice psané rukou)\n",
    "digits = datasets.load_digits()\n",
    "print(digits.images[0])\n",
    "print(digits.target[0])"
   ]
  },
  {
   "cell_type": "code",
   "execution_count": 79,
   "metadata": {},
   "outputs": [
    {
     "data": {
      "image/png": "[encoded data removed]",
      "text/plain": [
       "<Figure size 720x216 with 4 Axes>"
      ]
     },
     "metadata": {
      "needs_background": "light"
     },
     "output_type": "display_data"
    }
   ],
   "source": [
    "#vykreslení datové sady do matice pixelů\n",
    "_, axes = plt.subplots(nrows=1, ncols=4, figsize=(10, 3))\n",
    "for ax, image, label in zip(axes, digits.images, digits.target):\n",
    "    ax.set_axis_off()\n",
    "    ax.imshow(image, cmap=plt.cm.gray_r, interpolation=\"nearest\")\n",
    "    ax.set_title(\"Data: %i\" % label)"
   ]
  },
  {
   "cell_type": "code",
   "execution_count": 80,
   "metadata": {},
   "outputs": [
    {
     "name": "stdout",
     "output_type": "stream",
     "text": [
      "(1797, 8, 8)\n",
      "(1797, 64)\n"
     ]
    }
   ],
   "source": [
    "# zploštění matice dat na vektor dat\n",
    "print(digits.images.shape)\n",
    "n_samples = len(digits.images)\n",
    "data = digits.images.reshape((n_samples, -1))\n",
    "print(data.shape)"
   ]
  },
  {
   "cell_type": "code",
   "execution_count": 62,
   "metadata": {},
   "outputs": [],
   "source": [
    "# dělení dat na trénovací a testovací pomocí pomocné funkce (půl na půl nezamíchaně)\n",
    "X_train, X_test, y_train, y_test = train_test_split(\n",
    "    data, digits.target, test_size=0.5, shuffle=False\n",
    ")"
   ]
  },
  {
   "cell_type": "code",
   "execution_count": 81,
   "metadata": {},
   "outputs": [],
   "source": [
    "# inicializace klasifikátoru - použijeme model podpůrných vektorů (SVM)\n",
    "clf = svm.SVC(gamma=0.001)"
   ]
  },
  {
   "cell_type": "code",
   "execution_count": 83,
   "metadata": {},
   "outputs": [
    {
     "data": {
      "text/plain": [
       "SVC(gamma=0.001)"
      ]
     },
     "execution_count": 83,
     "metadata": {},
     "output_type": "execute_result"
    }
   ],
   "source": [
    "# trénovaní modelu na trénovací datové sadě\n",
    "clf.fit(X_train, y_train)"
   ]
  },
  {
   "cell_type": "code",
   "execution_count": 84,
   "metadata": {},
   "outputs": [],
   "source": [
    "# predikce třídy na testovací datové sadě\n",
    "predicted = clf.predict(X_test)"
   ]
  },
  {
   "cell_type": "code",
   "execution_count": 85,
   "metadata": {},
   "outputs": [
    {
     "data": {
      "image/png": "[encoded data removed]",
      "text/plain": [
       "<Figure size 720x216 with 4 Axes>"
      ]
     },
     "metadata": {
      "needs_background": "light"
     },
     "output_type": "display_data"
    }
   ],
   "source": [
    "# vykreslení testovacích dat a jejich predikované třídy\n",
    "_, axes = plt.subplots(nrows=1, ncols=4, figsize=(10, 3))\n",
    "for ax, image, prediction in zip(axes, X_test, predicted):\n",
    "    ax.set_axis_off()\n",
    "    image = image.reshape(8, 8)\n",
    "    ax.imshow(image, cmap=plt.cm.gray_r, interpolation=\"nearest\")\n",
    "    ax.set_title(f\"Predikce: {prediction}\")"
   ]
  },
  {
   "cell_type": "code",
   "execution_count": 86,
   "metadata": {},
   "outputs": [
    {
     "name": "stdout",
     "output_type": "stream",
     "text": [
      "Klasifikační report pro model SVC(gamma=0.001):\n",
      "              precision    recall  f1-score   support\n",
      "\n",
      "           0       1.00      0.99      0.99        88\n",
      "           1       0.99      0.97      0.98        91\n",
      "           2       0.99      0.99      0.99        86\n",
      "           3       0.98      0.87      0.92        91\n",
      "           4       0.99      0.96      0.97        92\n",
      "           5       0.95      0.97      0.96        91\n",
      "           6       0.99      0.99      0.99        91\n",
      "           7       0.96      0.99      0.97        89\n",
      "           8       0.94      1.00      0.97        88\n",
      "           9       0.93      0.98      0.95        92\n",
      "\n",
      "    accuracy                           0.97       899\n",
      "   macro avg       0.97      0.97      0.97       899\n",
      "weighted avg       0.97      0.97      0.97       899\n",
      "\n",
      "\n"
     ]
    }
   ],
   "source": [
    "# report o efektivitě klasifikace pomocí metrik z sklearn (predikce vs. skutečnost)\n",
    "print(\n",
    "    f\"Klasifikační report pro model {clf}:\\n\"\n",
    "    f\"{metrics.classification_report(y_test, predicted)}\\n\"\n",
    ")"
   ]
  },
  {
   "cell_type": "code",
   "execution_count": 87,
   "metadata": {},
   "outputs": [
    {
     "name": "stdout",
     "output_type": "stream",
     "text": [
      "Confusion matrix:\n",
      "[[87  0  0  0  1  0  0  0  0  0]\n",
      " [ 0 88  1  0  0  0  0  0  1  1]\n",
      " [ 0  0 85  1  0  0  0  0  0  0]\n",
      " [ 0  0  0 79  0  3  0  4  5  0]\n",
      " [ 0  0  0  0 88  0  0  0  0  4]\n",
      " [ 0  0  0  0  0 88  1  0  0  2]\n",
      " [ 0  1  0  0  0  0 90  0  0  0]\n",
      " [ 0  0  0  0  0  1  0 88  0  0]\n",
      " [ 0  0  0  0  0  0  0  0 88  0]\n",
      " [ 0  0  0  1  0  1  0  0  0 90]]\n"
     ]
    },
    {
     "data": {
      "image/png": "[encoded data removed]",
      "text/plain": [
       "<Figure size 432x288 with 2 Axes>"
      ]
     },
     "metadata": {
      "needs_background": "light"
     },
     "output_type": "display_data"
    }
   ],
   "source": [
    "#vykreslení matice zmatenosti (confusion matrix)\n",
    "disp = metrics.ConfusionMatrixDisplay.from_predictions(y_test, predicted)\n",
    "disp.figure_.suptitle(\"Confusion Matrix\")\n",
    "print(f\"Confusion matrix:\\n{disp.confusion_matrix}\")\n",
    "\n",
    "plt.show()"
   ]
  },
  {
   "cell_type": "markdown",
   "metadata": {},
   "source": [
    "**Regrese**"
   ]
  },
  {
   "cell_type": "code",
   "execution_count": 88,
   "metadata": {},
   "outputs": [],
   "source": [
    "#nahrání potrebných modulů\n",
    "from sklearn import datasets, linear_model\n",
    "from sklearn.metrics import mean_squared_error, r2_score"
   ]
  },
  {
   "cell_type": "code",
   "execution_count": 89,
   "metadata": {},
   "outputs": [],
   "source": [
    "#nahrání datové sady pro diabetes\n",
    "#https://scikit-learn.org/stable/datasets/toy_dataset.html#diabetes-dataset\n",
    "diabetes_X, diabetes_y = datasets.load_diabetes(return_X_y=True)"
   ]
  },
  {
   "cell_type": "code",
   "execution_count": 90,
   "metadata": {},
   "outputs": [
    {
     "name": "stdout",
     "output_type": "stream",
     "text": [
      "[ 0.03807591  0.05068012  0.06169621  0.02187235 -0.0442235  -0.03482076\n",
      " -0.04340085 -0.00259226  0.01990842 -0.01764613]\n",
      "[-0.00188202 -0.04464164 -0.05147406 -0.02632783 -0.00844872 -0.01916334\n",
      "  0.07441156 -0.03949338 -0.06832974 -0.09220405]\n"
     ]
    }
   ],
   "source": [
    "#age, sex, bmi, avg blood pressure, cholesterol, ... \n",
    "#data jsou centrovaná ke střední hodnotě a škálovaná směrodatnou odchylkou\n",
    "print(diabetes_X[0])\n",
    "print(diabetes_X[1])"
   ]
  },
  {
   "cell_type": "code",
   "execution_count": 91,
   "metadata": {},
   "outputs": [
    {
     "name": "stdout",
     "output_type": "stream",
     "text": [
      "151.0\n",
      "75.0\n"
     ]
    }
   ],
   "source": [
    "#kvantitativní vyjádření průběhu nemoci\n",
    "print(diabetes_y[0])\n",
    "print(diabetes_y[1])"
   ]
  },
  {
   "cell_type": "code",
   "execution_count": 92,
   "metadata": {},
   "outputs": [
    {
     "name": "stdout",
     "output_type": "stream",
     "text": [
      "[0.06169621]\n"
     ]
    }
   ],
   "source": [
    "#použijeme pro sledování průběhu jen BMI (index 2)\n",
    "diabetes_X = diabetes_X[:, np.newaxis, 2]\n",
    "print(diabetes_X[0])"
   ]
  },
  {
   "cell_type": "code",
   "execution_count": 93,
   "metadata": {},
   "outputs": [
    {
     "name": "stdout",
     "output_type": "stream",
     "text": [
      "(422, 1)\n",
      "(20, 1)\n"
     ]
    }
   ],
   "source": [
    "#dělení dat na trénovací a testovací datové sady\n",
    "diabetes_X_train = diabetes_X[:-20]\n",
    "diabetes_X_test = diabetes_X[-20:]\n",
    "\n",
    "diabetes_y_train = diabetes_y[:-20]\n",
    "diabetes_y_test = diabetes_y[-20:]\n",
    "\n",
    "print(diabetes_X_train.shape)\n",
    "print(diabetes_X_test.shape)"
   ]
  },
  {
   "cell_type": "code",
   "execution_count": 94,
   "metadata": {},
   "outputs": [],
   "source": [
    "#inicializace modelu - LinearRegression je numerický model Metody nejmenších čtverců\n",
    "regr = linear_model.LinearRegression()"
   ]
  },
  {
   "cell_type": "code",
   "execution_count": 95,
   "metadata": {},
   "outputs": [
    {
     "data": {
      "text/plain": [
       "LinearRegression()"
      ]
     },
     "execution_count": 95,
     "metadata": {},
     "output_type": "execute_result"
    }
   ],
   "source": [
    "#trénování modelu pomocí trénovací datové sady\n",
    "regr.fit(diabetes_X_train, diabetes_y_train)"
   ]
  },
  {
   "cell_type": "code",
   "execution_count": 96,
   "metadata": {},
   "outputs": [],
   "source": [
    "#predikování hodnot pomocí modelu\n",
    "diabetes_y_pred = regr.predict(diabetes_X_test)"
   ]
  },
  {
   "cell_type": "code",
   "execution_count": 97,
   "metadata": {},
   "outputs": [
    {
     "name": "stdout",
     "output_type": "stream",
     "text": [
      "Koeficienty: [938.23786125]\n",
      "Střední kvadratická chyba: 2548.07\n",
      "Koeficient determinace: 0.47\n"
     ]
    }
   ],
   "source": [
    "# Koeficienty regresní přímky\n",
    "print(\"Koeficienty:\", regr.coef_)\n",
    "\n",
    "# Střední kvadratická chyba = přesnost odhadů regrese pomocí střední hodnoty druhých mocnin rozdílů\n",
    "print(\"Střední kvadratická chyba: %.2f\" % mean_squared_error(diabetes_y_test, diabetes_y_pred))\n",
    "\n",
    "# Koeficient derterminace = míra kvality regresního modelu, dokonalá determinace = 1\n",
    "print(\"Koeficient determinace: %.2f\" % r2_score(diabetes_y_test, diabetes_y_pred))"
   ]
  },
  {
   "cell_type": "code",
   "execution_count": 98,
   "metadata": {},
   "outputs": [
    {
     "data": {
      "image/png": "[encoded data removed]",
      "text/plain": [
       "<Figure size 432x288 with 1 Axes>"
      ]
     },
     "metadata": {
      "needs_background": "light"
     },
     "output_type": "display_data"
    }
   ],
   "source": [
    "# Vykreslení regrese\n",
    "plt.scatter(diabetes_X_test, diabetes_y_test, color=\"black\")\n",
    "plt.plot(diabetes_X_test, diabetes_y_pred, color=\"blue\", linewidth=3)\n",
    "plt.xlabel(\"BMI [normované]\")\n",
    "plt.ylabel(\"Průběh diabetu\")\n",
    "plt.show()"
   ]
  },
  {
   "cell_type": "markdown",
   "metadata": {},
   "source": [
    "**Shlukování**"
   ]
  },
  {
   "cell_type": "code",
   "execution_count": 99,
   "metadata": {},
   "outputs": [],
   "source": [
    "from sklearn.cluster import kmeans_plusplus\n",
    "from sklearn.datasets import make_blobs"
   ]
  },
  {
   "cell_type": "code",
   "execution_count": 105,
   "metadata": {},
   "outputs": [
    {
     "data": {
      "image/png": "[encoded data removed]",
      "text/plain": [
       "<Figure size 432x288 with 1 Axes>"
      ]
     },
     "metadata": {},
     "output_type": "display_data"
    }
   ],
   "source": [
    "# Generování vzorků pro 4 třídy\n",
    "n_samples = 4000\n",
    "n_components = 4\n",
    "\n",
    "# Generování náhodných souřadnic bodů o 4 třídách (centra bodů), X = 2D souřadnice, y_true = třídy\n",
    "X, y_true = make_blobs(n_samples=n_samples, centers=n_components, cluster_std=0.60, random_state=0)\n",
    "\n",
    "# Obrácení souřadnic x, y = y, x pro všechna Xi in X\n",
    "X = X[:, ::-1]\n",
    "\n",
    "# Calculate seeds from kmeans++\n",
    "centers_init, indices = kmeans_plusplus(X, n_clusters=4, random_state=0)\n",
    "\n",
    "# Plot init seeds along side sample data\n",
    "colors = [\"#4EACC5\", \"#FF9C34\", \"#4E9A06\", \"m\"]\n",
    "\n",
    "#obarvení a vykreslení všech bodů podle tříd\n",
    "for icolor, color in enumerate(colors):\n",
    "    cluster_data = y_true == icolor\n",
    "    plt.scatter(X[cluster_data, 0], X[cluster_data, 1], c=color, marker=\".\", s=10)\n",
    "\n",
    "#vykreslení center z kmeans++ metody\n",
    "plt.figure(1)\n",
    "plt.scatter(centers_init[:, 0], centers_init[:, 1], c=\"b\", s=50)\n",
    "plt.xticks([])\n",
    "plt.yticks([])\n",
    "plt.show()"
   ]
  },
  {
   "cell_type": "markdown",
   "metadata": {},
   "source": [
    "#### 1.3 Přístupy ke strojovému učení\n",
    "\n",
    "<img src=\"SOC1_soubory/aplikace.jpg\" style=\"height:500px\">\n",
    "\n",
    "**S učitelem (supervised)**\n",
    "\n",
    "Vstupem algoritmu je tzv. trénovací množina dat, která obsahuje vstupy a výstupy k těmto vstupům (ty zjistil nějaký učitel). Algoritmus má za úkol nalézt univerzální pravidlo pro mapování vstupů na výstupy. Univerzální pravidlo je následně testováno na trénovaí množině dat, se kterou se algoritmus během tréninku nesetkal. Používá se zejména u neuronových sítích pro kognitivní funkce.\n",
    "\n",
    "<img src=\"SOC1_soubory/sl.jpeg\" style=\"height:250px\">\n",
    "\n",
    "**Bez učitele (unsupervised)**\n",
    "\n",
    "Vstupem algoritmu jsou pouze data, která nejsou nijak označená (žádný výstup). Algoritmus má za úkol nalézt vzory v datech a zařadit je do kategorií (výstup ke vstupu). Používá se zejména pro dolování dat a učení multiagentních systémů.\n",
    "\n",
    "<img src=\"SOC1_soubory/usl.png\" style=\"height:200px\">\n",
    "\n",
    "**Částečně s učitelem (semi-supervised)**\n",
    "\n",
    "Vstupem algoritmu je trénovací množina dat se vstupy a výstupy, avšak k některým vstupům výstupy chybí. V praxi se jedná o velkou množinu vstupů bez výstupů (učení bez učitele) a malé množství dat s výstupy (učení s učitelem).\n",
    "\n",
    "<img src=\"SOC1_soubory/ssl.png\" style=\"height:400px\">\n",
    "\n",
    "**Se slabým učitelem (weakly supervised)**\n",
    "\n",
    "Vstupem algoritmu je trénovací množina dat se vstupy a výstupy, avšak kvalita výstupu je nízká. Výstupy jsou zašuměné, špatně oklasifikované nebo nepřesné. Taková data jsou však v běžném životě často zastoupena. Jedná se vlastně o vágní data, která lze získat i velmi levně z mnoha zdrojů.\n",
    "\n",
    "<img src=\"SOC1_soubory/wsl.png\" style=\"height:500px\">\n",
    "\n",
    "**Zpětnovazební (reiforcement)**\n",
    "\n",
    "Algoritmus interaguje s dynamickým prostředím, ve kterým plní nějaký úkol (řízení vozidla, hraní fotbalu v týmu). K učení dochází na základě odměňování za efektivní plnění úkolů v prostředí. Příkladem takového přístupu je Q-learning.\n",
    "\n",
    "<img src=\"SOC1_soubory/rl.jpg\" style=\"height:200px\">\n",
    "\n",
    "**Redukce dimenzionality**\n",
    "\n",
    "Algoritmus má za cíl snížit počet dat nebo dimenzí. Tím dojde ke snížení potřebného času pro analýzu a i potenciální zkvalitnění učení nad daty ostatními algoritmy. Příkladem takové techniky je PCA (Principal Component Analysis), která převádí například 3D data (datové kostky) do 2D dat (matice) nebo manifold learning.\n",
    "\n",
    "<img src=\"SOC1_soubory/dimreduc.png\" style=\"height:250px\">\n",
    "\n",
    "**Meta učení (meta-learning)**\n",
    "\n",
    "Algoritmy se učí jak se učít (learning to learn). K tomu se využívá buď dalších modelů, který pomáhají modelům se učit, nebo různé techniky hledající hyperparametry (nastavení proměnných modelů), které se typicky optimalizují na základě experimentálního ověření kvality modelu nebo meta dat (dat o datech).\n",
    "\n",
    "<img src=\"SOC1_soubory/metalearning.png\" style=\"height:200px\">"
   ]
  },
  {
   "cell_type": "markdown",
   "metadata": {},
   "source": [
    "#### 1.4 Modely Soft Computingu\n",
    "\n",
    "<img src=\"SOC1_soubory/modely.jpg\" style=\"height:500px\">\n",
    "\n",
    "**Fuzzy počítání**\n",
    "\n",
    "Počítače velice dobře fungují na množinové matematice. Problémem však zůstává podle principu neslučitelnosti, že v reálném životě nejsou pro informace jasně definované kategorie. Teplota může být pro někoho vysoká a pro jiného střední. Muž může být pro jednu ženu pohledný a pro jinou nepohledný. Objekty reálného světa náleží do určitých kategorií jen s nějakou pravděpodobností, což modelují fuzzy množiny. Na nich jsou pak definované množinové operace, které umožňují pracovat s vágními (neurčitými) daty reálného světa.\n",
    "\n",
    "<img src=\"SOC1_soubory/fuzzy.jpg\" style=\"height:150px\">\n",
    "\n",
    "**Neuronové sítě**\n",
    "\n",
    "Neuronové sítě jsou nejpoužívanější technika strojového učení, která využívá matematický model biologického neuronu. Tento neuron má vstupy pro signály s proměnlivými vahami, které mohou inhibovat činnost neuronu, která závisí na jeho výstupní funkci. Neurony se shlukují do vrstev, které jsou na sebe napojené (hluboké učení). Vrstvy mohou mít i speciální funkce, které pomáhají simulovat kognitivní funkce: konvoluční (analýza obrazu), rekurentní (paměť), zahazovací (zapomínání informací), atd. Jejich architektura má také velký vliv na efektivitu a mohou sloužit pro generování aktiv (GAN sítě) nebo doporučovaní aktiv (paralelní sítě v doporučovacích systémech).\n",
    "\n",
    "<img src=\"SOC1_soubory/neuralnetwork.png\" style=\"height:450px\">\n",
    "\n",
    "**Evoluční počítání**\n",
    "\n",
    "Mezi nejpoužívanější verzi evolučních výpočtu patří genetický algoritmus, ve kterém jsou potenciální kandidáti na řešení problému zákodovány do binárních řetězců, na které jsou aplikovány evoluční operátory selekce, křížení a mutace. Tím se simuluje Darwinovo výběr nejsilnějších jedinců do další generace. Po dostatečné době dojde ke konvergenci k optimu.\n",
    "\n",
    "<img src=\"SOC1_soubory/evolution.png\" style=\"height:450px\">\n",
    "\n",
    "**Pravděpodobnostní usuzování**\n",
    "\n",
    "Techniky tradičního usuzování na základě pravděpodobnosti (Bayesovská statistika je schopná i rozpoznat písmo), tak i složité techniky jako posibilistické měry.\n",
    "\n",
    "<img src=\"SOC1_soubory/bayesian.jpeg\" style=\"height:350px\">\n",
    "\n",
    "**Rozhodovací stromy**\n",
    "\n",
    "Prediktivní model, který je reprezentován datovou strukturou strom. Uzly představují rozhodovací podmínky, který dělí data do tříd (větve). Využívá se zejména v oblasti dolování dat.\n",
    "\n",
    "<img src=\"SOC1_soubory/dectree.png\" style=\"height:350px\">\n",
    "\n",
    "**Podpůrné vektorové stroje**\n",
    "\n",
    "Lineární (případně nelineární s využitím jádrového triku) klasifikátor dat do kategorií, který je obdobný neuronovým sítím. Díky jádrovému triku je velice flexibilní a efektivní klasifikátor, který využívá zvyšování odsazení hranic tříd od sebe, které jsou vytyčené podpůrnými vektory.\n",
    "\n",
    "<img src=\"SOC1_soubory/svm.png\" style=\"height:350px\">\n",
    "\n",
    "**Těžení dat**\n",
    "\n",
    "Získávání cenných znalostí z velkého množství souborů dat. Příklad je korelace věku a pohlaví zákazníka v pandemické krizi se spotřebním chováním, což může zajistit konkurenční výhody podniku v jeho okolí.\n",
    "\n",
    "<img src=\"SOC1_soubory/datamining.png\" style=\"height:300px\">\n",
    "\n",
    "**Hybridní přístupy**\n",
    "\n",
    "Soft Computing je o synergii technik strojového učení. Příklady synergie:\n",
    "\n",
    "* Fuzzy pravidla pro rozhodování mohou být optimalizovány neuronovou sítí nebo genetickým algoritmem\n",
    "* Genetický algoritmus může být řízen fuzzy regulátorem\n",
    "* Neuronová síť může mít architekturu utvářenou genetickým programováním\n",
    "* Fuzzy possibilistický přístup k rozhodování (vágní a náhodné veličiny)\n"
   ]
  }
 ],
 "metadata": {
  "interpreter": {
   "hash": "0f39631ce0aac80c1529f4cca09b0b1a832c000a62ec67609bdd90db38e5f98d"
  },
  "kernelspec": {
   "display_name": "Python 3.9.10 ('venv': venv)",
   "language": "python",
   "name": "python3"
  },
  "language_info": {
   "codemirror_mode": {
    "name": "ipython",
    "version": 3
   },
   "file_extension": ".py",
   "mimetype": "text/x-python",
   "name": "python",
   "nbconvert_exporter": "python",
   "pygments_lexer": "ipython3",
   "version": "3.9.10"
  },
  "orig_nbformat": 4
 },
 "nbformat": 4,
 "nbformat_minor": 2
}
