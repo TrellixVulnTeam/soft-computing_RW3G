{
 "cells": [
  {
   "cell_type": "markdown",
   "metadata": {},
   "source": [
    "# Soft Computing"
   ]
  },
  {
   "cell_type": "markdown",
   "metadata": {},
   "source": [
    "## Cvičení 12 - Bayesovské sítě"
   ]
  },
  {
   "cell_type": "markdown",
   "metadata": {},
   "source": [
    "### On-site cvičení"
   ]
  },
  {
   "cell_type": "markdown",
   "metadata": {},
   "source": [
    "#### 12.1 Závislost proměnných\n",
    "\n",
    "Naivní Bayesův klasifikátor je založen na předpokladu, že všechny náhodné jevy jsou na sobě nezávislé, což reálnách situacích není převážně pravdou. Pro tyto reálné problémy budeme potřebovat jiné typy modelů, které umožňují specifikovat různorodé typy náhodných proměnných:\n",
    "1. Vzájemně nezávislé\n",
    "2. Vzájemně nezávislé\n",
    "3. Vzájemně podmíněně nezávislé\n",
    "\n",
    "Bayesovské sítě jsou typ pravděpodobnostního grafického modelu, který je matematicky reprezentován acyklickým orientovaným grafem. Uzly grafu představují pravděpodobnostní proměnné a hrany mezi nimi představují podmíněnou vzájemnou závislost. Svou vyjadřovací silou jsou schopny vyjádřit všechny tři typy pravděpodobnostních proměnných.\n",
    "\n",
    "<img src=\"SOC12_soubory/promenne.png\" style=\"height:250px\">\n",
    "\n",
    "V tomto pravděpodobnostním grafickém modelu vidíme:\n",
    "* **Vzájemně nezávislé proměnné:** A-C a B-C, zda nastane událost C nemá vliv na událost A a opačně\n",
    "* **Vzájemně závislé proměnné:** A-B, B je potomek A a je tedy na něm existenčně závislý podmíněnou pravděpodobností\n",
    "* **Vzájemně podmíněné nezávislé:** A-D, D je podmíněně nezávislý na A, jelikož je jeho prarodičem a vytváří závislost pro D díky svému potomkovi B\n",
    "\n"
   ]
  },
  {
   "cell_type": "markdown",
   "metadata": {},
   "source": [
    "#### 12.2 Bayesovské sítě (Bayesian Belief Network, BBN)\n",
    "\n",
    "Pro tvorbu BBN slouží v Pythonu modul s názvem PyBBN."
   ]
  },
  {
   "cell_type": "code",
   "execution_count": null,
   "metadata": {},
   "outputs": [],
   "source": []
  },
  {
   "cell_type": "markdown",
   "metadata": {},
   "source": [
    "#### 12.3 Předpověd počasí pomocí BBN\n",
    "\n",
    "Aplikujme BBN na vybranou datovou sadu z Kaggle. Na Kaggle se nachází datová sada o Australském počasí, která nám umožní predikovat, zda bude zítra pršet nebo ne.\n",
    "\n",
    "Odkaz na dataset: [ZDE](https://www.kaggle.com/jsphyg/weather-dataset-rattle-package)\n",
    "\n",
    "<img src=\"SOC12_soubory/pocasi.png\" style=\"height:350px\">"
   ]
  },
  {
   "cell_type": "markdown",
   "metadata": {},
   "source": [
    "**Import modulů**"
   ]
  },
  {
   "cell_type": "code",
   "execution_count": null,
   "metadata": {},
   "outputs": [],
   "source": [
    "import pandas as pd                 # pro manipulaci s daty\n",
    "import networkx as nx               # pro vykreslování grafů\n",
    "import matplotlib.pyplot as plt     # pro vykreslování grafů\n",
    "\n",
    "# pro tvorbu BBN modelu\n",
    "from pybbn.graph.dag import Bbn\n",
    "from pybbn.graph.edge import Edge, EdgeType\n",
    "from pybbn.graph.jointree import EvidenceBuilder\n",
    "from pybbn.graph.node import BbnNode\n",
    "from pybbn.graph.variable import Variable\n",
    "from pybbn.pptc.inferencecontroller import InferenceController"
   ]
  },
  {
   "cell_type": "markdown",
   "metadata": {},
   "source": [
    "**Stažení datové sady**"
   ]
  },
  {
   "cell_type": "code",
   "execution_count": null,
   "metadata": {},
   "outputs": [],
   "source": [
    "!wget https://www.kaggle.com/jsphyg/weather-dataset-rattle-package"
   ]
  },
  {
   "cell_type": "markdown",
   "metadata": {},
   "source": [
    "**Analýza dat**"
   ]
  },
  {
   "cell_type": "code",
   "execution_count": null,
   "metadata": {},
   "outputs": [],
   "source": [
    "# nastavíme v PD, abychom si mohli prohlédnout více sloupců než implicitně modul ukazuje\n",
    "pd.options.display.max_columns=50\n",
    "\n",
    "# načtení dat z csv souboru do pandas datového rámce\n",
    "df=pd.read_csv('weatherAUS.csv', encoding='utf-8')\n",
    "\n",
    "# zahození záznamů, ve kterých chybí příznak, zda druhý den pršelo (cíl klasifikace)\n",
    "df=df[pd.isnull(df['RainTomorrow'])==False]\n",
    "\n",
    "# pokud někde jinde chybí data, tak je vyplň střední hodnotou\n",
    "df=df.fillna(df.mean())\n",
    "\n",
    "# Create bands for variables that we want to use in the model\n",
    "df['WindGustSpeedCat']=df['WindGustSpeed'].apply(\n",
    "    lambda x: '0.<=40' if x<=40 else '1.40-50' if 40<x<=50 else '2.>50'\n",
    ")\n",
    "\n",
    "#\n",
    "df['Humidity9amCat']=df['Humidity9am'].apply(\n",
    "    lambda x: '1.>60' if x>60 else '0.<=60'\n",
    ")\n",
    "\n",
    "#\n",
    "df['Humidity3pmCat']=df['Humidity3pm'].apply(\n",
    "    lambda x: '1.>60' if x>60 else '0.<=60'\n",
    ")\n",
    "\n",
    "# prohlédnutí výsledného datového rámce\n",
    "df"
   ]
  },
  {
   "cell_type": "markdown",
   "metadata": {},
   "source": [
    "**Konstrukce uzlů sítě**\n",
    "\n",
    "Vytvoříme uzly BBN sítě. Pravděpodobnosti do BBN uzlů se získají pomocí normalizované frekvence výskytu hodnot pravděpodobností proměnné."
   ]
  },
  {
   "cell_type": "code",
   "execution_count": null,
   "metadata": {},
   "outputs": [],
   "source": [
    "df['Humidity9amCat'].value_counts().sort_index()"
   ]
  },
  {
   "cell_type": "code",
   "execution_count": null,
   "metadata": {},
   "outputs": [],
   "source": [
    "df['Humidity9amCat'].value_counts(normalize=True).sort_index()"
   ]
  },
  {
   "cell_type": "code",
   "execution_count": null,
   "metadata": {},
   "outputs": [],
   "source": [
    "H9am = BbnNode(Variable(0, 'H9am', ['<=60', '>60']), [0.30658, 0.69342])"
   ]
  },
  {
   "cell_type": "markdown",
   "metadata": {},
   "source": [
    "Proměnné, které mají rodiče, musí mít specifikovány pravděpodobnosti pro všechny kombinace hodnot.\n",
    "\n",
    "<img src=\"SOC12_soubory/rodic.png\" style=\"height:100px\">"
   ]
  },
  {
   "cell_type": "code",
   "execution_count": null,
   "metadata": {},
   "outputs": [],
   "source": [
    "H3pm = BbnNode(Variable(1, 'H3pm', ['<=60', '>60']), [0.92827, 0.07173, \n",
    "                                                      0.55760, 0.44240])"
   ]
  },
  {
   "cell_type": "code",
   "execution_count": null,
   "metadata": {},
   "outputs": [],
   "source": [
    "W = BbnNode(Variable(2, 'W', ['<=40', '40-50', '>50']), [0.58660, 0.24040, 0.17300])"
   ]
  },
  {
   "cell_type": "code",
   "execution_count": null,
   "metadata": {},
   "outputs": [],
   "source": [
    "RT = BbnNode(Variable(3, 'RT', ['No', 'Yes']), [0.92314, 0.07686, \n",
    "                                                0.89072, 0.10928, \n",
    "                                                0.76008, 0.23992, \n",
    "                                                0.64250, 0.35750, \n",
    "                                                0.49168, 0.50832, \n",
    "                                                0.32182, 0.67818])"
   ]
  },
  {
   "cell_type": "markdown",
   "metadata": {},
   "source": [
    "Výpočet pravděpodobností manuálně je nevhodná metoda pro tvorbu větších sítí a navíc zavádí lidský chybový faktor. Vytvoříme proměnné a jejich podmíněné pravděpodobnosti pomocí pomocné funkce."
   ]
  },
  {
   "cell_type": "code",
   "execution_count": null,
   "metadata": {},
   "outputs": [],
   "source": [
    "# tato funkce pomáhá spočítat podmíněné pravděpodobnosti (funguje uzly s nejvyyším počtem rodičů 2)\n",
    "def probs(data, child, parent1=None, parent2=None):\n",
    "    #pokud uzel nemá rodiče\n",
    "    if parent1==None:\n",
    "        prob=pd.crosstab(data[child], 'Empty', margins=False, normalize='columns').sort_index().to_numpy().reshape(-1).tolist()\n",
    "    # pokud má uzel jednoho rodiče\n",
    "    elif parent1!=None and parent2==None:\n",
    "        prob=pd.crosstab(data[parent1],data[child], margins=False, normalize='index').sort_index().to_numpy().reshape(-1).tolist()\n",
    "    elif parent1!=None and parent2!=None:    \n",
    "        # pokud má uzel dva rodiče\n",
    "        prob=pd.crosstab([data[parent1],data[parent2]],data[child], margins=False, normalize='index').sort_index().to_numpy().reshape(-1).tolist()\n",
    "    else: \n",
    "        print(\"Error in Probability Frequency Calculations\")\n",
    "    return prob "
   ]
  },
  {
   "cell_type": "code",
   "execution_count": null,
   "metadata": {},
   "outputs": [],
   "source": [
    "# tvorba uzlů pomocí pomocné funkce\n",
    "H9am = BbnNode(Variable(0, 'H9am', ['<=60', '>60']), probs(df, child='Humidity9amCat'))\n",
    "H3pm = BbnNode(Variable(1, 'H3pm', ['<=60', '>60']), probs(df, child='Humidity3pmCat', parent1='Humidity9amCat'))\n",
    "W = BbnNode(Variable(2, 'W', ['<=40', '40-50', '>50']), probs(df, child='WindGustSpeedCat'))\n",
    "RT = BbnNode(Variable(3, 'RT', ['No', 'Yes']), probs(df, child='RainTomorrow', parent1='Humidity3pmCat', parent2='WindGustSpeedCat'))"
   ]
  },
  {
   "cell_type": "markdown",
   "metadata": {},
   "source": [
    "**Konstrukce modelu BBN**"
   ]
  },
  {
   "cell_type": "code",
   "execution_count": null,
   "metadata": {},
   "outputs": [],
   "source": [
    "# tvorba modelu sítě\n",
    "bbn = Bbn() \\\n",
    "    .add_node(H9am) \\\n",
    "    .add_node(H3pm) \\\n",
    "    .add_edge(Edge(H9am, H3pm, EdgeType.DIRECTED)) \\\n",
    "    .add_node(RT) \\\n",
    "    .add_edge(Edge(H3pm, RT, EdgeType.DIRECTED)) \\\n",
    "    .add_node(W) \\\n",
    "    .add_edge(Edge(W, RT, EdgeType.DIRECTED))\n",
    "\n",
    "# převedení BNN do stromu\n",
    "join_tree = InferenceController.apply(bbn)"
   ]
  },
  {
   "cell_type": "markdown",
   "metadata": {},
   "source": [
    "**Vykreslení BBN**"
   ]
  },
  {
   "cell_type": "code",
   "execution_count": null,
   "metadata": {},
   "outputs": [],
   "source": [
    "# nastavení pozic uzlů\n",
    "pos = {\n",
    "    0: (-1, 2), \n",
    "    1: (-1, 0.5), \n",
    "    2: (1, 0.5), \n",
    "    3: (0, -1)\n",
    "}\n",
    "\n",
    "# nastavení vzhledu grafu\n",
    "options = {\n",
    "    \"font_size\": 16,\n",
    "    \"node_size\": 4000,\n",
    "    \"node_color\": \"white\",\n",
    "    \"edgecolors\": \"black\",\n",
    "    \"edge_color\": \"red\",\n",
    "    \"linewidths\": 5,\n",
    "    \"width\": 5,}\n",
    "    \n",
    "# generování grafu\n",
    "n, d = bbn.to_nx_graph()\n",
    "nx.draw(n, with_labels=True, labels=d, pos=pos, **options)\n",
    "\n",
    "# tisk grafu\n",
    "ax = plt.gca()\n",
    "ax.margins(0.10)\n",
    "plt.axis(\"off\")\n",
    "plt.show()"
   ]
  },
  {
   "cell_type": "markdown",
   "metadata": {},
   "source": [
    "**Predikce**"
   ]
  },
  {
   "cell_type": "code",
   "execution_count": null,
   "metadata": {},
   "outputs": [],
   "source": [
    "# Define a function for printing marginal probabilities\n",
    "def print_probs():\n",
    "    for node in join_tree.get_bbn_nodes():\n",
    "        potential = join_tree.get_bbn_potential(node)\n",
    "        print(\"Node:\", node)\n",
    "        print(\"Values:\")\n",
    "        print(potential)\n",
    "        print('----------------')\n",
    "        \n",
    "# Use the above function to print marginal probabilities\n",
    "print_probs()"
   ]
  },
  {
   "cell_type": "markdown",
   "metadata": {},
   "source": [
    "**Dodání důkazů do BBN**"
   ]
  },
  {
   "cell_type": "code",
   "execution_count": null,
   "metadata": {},
   "outputs": [],
   "source": [
    "# při dodání důkazů musí být pravděpodobnosti přepočítány\n",
    "def evidence(ev, nod, cat, val):\n",
    "    ev = EvidenceBuilder() \\\n",
    "    .with_node(join_tree.get_bbn_node_by_name(nod)) \\\n",
    "    .with_evidence(cat, val) \\\n",
    "    .build()\n",
    "    join_tree.set_observation(ev)\n",
    "    \n",
    "# přidej důkaz\n",
    "evidence('ev1', 'H9am', '>60', 1.0)\n",
    "\n",
    "# vytiskni pravděpodobnosti\n",
    "print_probs()"
   ]
  }
 ],
 "metadata": {
  "language_info": {
   "name": "python"
  },
  "orig_nbformat": 4
 },
 "nbformat": 4,
 "nbformat_minor": 2
}
