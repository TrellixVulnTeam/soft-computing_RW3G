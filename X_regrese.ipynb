{
 "cells": [
  {
   "cell_type": "markdown",
   "metadata": {},
   "source": [
    "# Soft Computing"
   ]
  },
  {
   "cell_type": "markdown",
   "metadata": {},
   "source": [
    "## Cvičení 4 - Regrese (cvičení na míru pro Petra Kuberu)"
   ]
  },
  {
   "cell_type": "markdown",
   "metadata": {},
   "source": [
    "### On-site cvičení"
   ]
  },
  {
   "cell_type": "markdown",
   "metadata": {},
   "source": [
    "#### 4.1 Datová analýza"
   ]
  },
  {
   "cell_type": "markdown",
   "metadata": {},
   "source": [
    "nahrání modulů"
   ]
  },
  {
   "cell_type": "code",
   "execution_count": 1,
   "metadata": {},
   "outputs": [],
   "source": [
    "import pandas as pd"
   ]
  },
  {
   "cell_type": "markdown",
   "metadata": {},
   "source": [
    "načtení datové sady"
   ]
  },
  {
   "cell_type": "code",
   "execution_count": 2,
   "metadata": {},
   "outputs": [
    {
     "name": "stdout",
     "output_type": "stream",
     "text": [
      "Index(['Unnamed: 0', 'srazky', 'rychlost_vetru', 'max_rychlost_vetru',\n",
      "       'vlhkost', 'teplota', 'tlak', 'hladina'],\n",
      "      dtype='object')\n"
     ]
    }
   ],
   "source": [
    "file_path = 'SOC4_soubory/regrese-sofcomputing.csv'\n",
    "df = pd.read_csv(file_path)\n",
    "print(df.columns)"
   ]
  },
  {
   "cell_type": "code",
   "execution_count": 3,
   "metadata": {},
   "outputs": [
    {
     "data": {
      "text/plain": [
       "0      2020-01-01\n",
       "1      2020-01-02\n",
       "2      2020-01-03\n",
       "3      2020-01-04\n",
       "4      2020-01-05\n",
       "          ...    \n",
       "634    2021-09-26\n",
       "635    2021-09-27\n",
       "636    2021-09-28\n",
       "637    2021-09-29\n",
       "638    2021-09-30\n",
       "Name: Unnamed: 0, Length: 639, dtype: object"
      ]
     },
     "execution_count": 3,
     "metadata": {},
     "output_type": "execute_result"
    }
   ],
   "source": [
    "dates = df['Unnamed: 0']\n",
    "dates"
   ]
  },
  {
   "cell_type": "code",
   "execution_count": 4,
   "metadata": {},
   "outputs": [],
   "source": [
    "feature_cols = [\n",
    "    #'Unnamed: 0', \n",
    "    'srazky', \n",
    "    'rychlost_vetru', \n",
    "    'max_rychlost_vetru', \n",
    "    'vlhkost',\n",
    "    'teplota',\n",
    "    'tlak']"
   ]
  },
  {
   "cell_type": "code",
   "execution_count": 5,
   "metadata": {},
   "outputs": [
    {
     "data": {
      "text/html": [
       "<div>\n",
       "<style scoped>\n",
       "    .dataframe tbody tr th:only-of-type {\n",
       "        vertical-align: middle;\n",
       "    }\n",
       "\n",
       "    .dataframe tbody tr th {\n",
       "        vertical-align: top;\n",
       "    }\n",
       "\n",
       "    .dataframe thead th {\n",
       "        text-align: right;\n",
       "    }\n",
       "</style>\n",
       "<table border=\"1\" class=\"dataframe\">\n",
       "  <thead>\n",
       "    <tr style=\"text-align: right;\">\n",
       "      <th></th>\n",
       "      <th>srazky</th>\n",
       "      <th>rychlost_vetru</th>\n",
       "      <th>max_rychlost_vetru</th>\n",
       "      <th>vlhkost</th>\n",
       "      <th>teplota</th>\n",
       "      <th>tlak</th>\n",
       "    </tr>\n",
       "  </thead>\n",
       "  <tbody>\n",
       "    <tr>\n",
       "      <th>0</th>\n",
       "      <td>0.00</td>\n",
       "      <td>0.9</td>\n",
       "      <td>7.4</td>\n",
       "      <td>78</td>\n",
       "      <td>-0.2</td>\n",
       "      <td>1032.857264</td>\n",
       "    </tr>\n",
       "    <tr>\n",
       "      <th>1</th>\n",
       "      <td>0.00</td>\n",
       "      <td>0.3</td>\n",
       "      <td>1.8</td>\n",
       "      <td>99</td>\n",
       "      <td>-4.6</td>\n",
       "      <td>1029.469955</td>\n",
       "    </tr>\n",
       "    <tr>\n",
       "      <th>2</th>\n",
       "      <td>0.10</td>\n",
       "      <td>0.0</td>\n",
       "      <td>6.9</td>\n",
       "      <td>100</td>\n",
       "      <td>-1.2</td>\n",
       "      <td>1022.193215</td>\n",
       "    </tr>\n",
       "    <tr>\n",
       "      <th>3</th>\n",
       "      <td>1.75</td>\n",
       "      <td>4.7</td>\n",
       "      <td>16.0</td>\n",
       "      <td>71</td>\n",
       "      <td>4.0</td>\n",
       "      <td>1021.971924</td>\n",
       "    </tr>\n",
       "    <tr>\n",
       "      <th>4</th>\n",
       "      <td>0.00</td>\n",
       "      <td>2.6</td>\n",
       "      <td>13.3</td>\n",
       "      <td>70</td>\n",
       "      <td>1.0</td>\n",
       "      <td>1032.023281</td>\n",
       "    </tr>\n",
       "    <tr>\n",
       "      <th>...</th>\n",
       "      <td>...</td>\n",
       "      <td>...</td>\n",
       "      <td>...</td>\n",
       "      <td>...</td>\n",
       "      <td>...</td>\n",
       "      <td>...</td>\n",
       "    </tr>\n",
       "    <tr>\n",
       "      <th>634</th>\n",
       "      <td>0.20</td>\n",
       "      <td>0.0</td>\n",
       "      <td>3.3</td>\n",
       "      <td>83</td>\n",
       "      <td>16.2</td>\n",
       "      <td>1014.916097</td>\n",
       "    </tr>\n",
       "    <tr>\n",
       "      <th>635</th>\n",
       "      <td>0.00</td>\n",
       "      <td>0.4</td>\n",
       "      <td>4.4</td>\n",
       "      <td>89</td>\n",
       "      <td>17.2</td>\n",
       "      <td>1013.344250</td>\n",
       "    </tr>\n",
       "    <tr>\n",
       "      <th>636</th>\n",
       "      <td>0.00</td>\n",
       "      <td>0.9</td>\n",
       "      <td>9.5</td>\n",
       "      <td>87</td>\n",
       "      <td>14.4</td>\n",
       "      <td>1017.230562</td>\n",
       "    </tr>\n",
       "    <tr>\n",
       "      <th>637</th>\n",
       "      <td>0.30</td>\n",
       "      <td>2.0</td>\n",
       "      <td>10.4</td>\n",
       "      <td>80</td>\n",
       "      <td>15.2</td>\n",
       "      <td>1015.627792</td>\n",
       "    </tr>\n",
       "    <tr>\n",
       "      <th>638</th>\n",
       "      <td>0.00</td>\n",
       "      <td>0.9</td>\n",
       "      <td>8.8</td>\n",
       "      <td>74</td>\n",
       "      <td>9.1</td>\n",
       "      <td>1023.498542</td>\n",
       "    </tr>\n",
       "  </tbody>\n",
       "</table>\n",
       "<p>639 rows × 6 columns</p>\n",
       "</div>"
      ],
      "text/plain": [
       "     srazky  rychlost_vetru  max_rychlost_vetru  vlhkost  teplota         tlak\n",
       "0      0.00             0.9                 7.4       78     -0.2  1032.857264\n",
       "1      0.00             0.3                 1.8       99     -4.6  1029.469955\n",
       "2      0.10             0.0                 6.9      100     -1.2  1022.193215\n",
       "3      1.75             4.7                16.0       71      4.0  1021.971924\n",
       "4      0.00             2.6                13.3       70      1.0  1032.023281\n",
       "..      ...             ...                 ...      ...      ...          ...\n",
       "634    0.20             0.0                 3.3       83     16.2  1014.916097\n",
       "635    0.00             0.4                 4.4       89     17.2  1013.344250\n",
       "636    0.00             0.9                 9.5       87     14.4  1017.230562\n",
       "637    0.30             2.0                10.4       80     15.2  1015.627792\n",
       "638    0.00             0.9                 8.8       74      9.1  1023.498542\n",
       "\n",
       "[639 rows x 6 columns]"
      ]
     },
     "execution_count": 5,
     "metadata": {},
     "output_type": "execute_result"
    }
   ],
   "source": [
    "X = df.loc[:, feature_cols]\n",
    "X"
   ]
  },
  {
   "cell_type": "code",
   "execution_count": 6,
   "metadata": {},
   "outputs": [
    {
     "data": {
      "text/plain": [
       "0      17.877630\n",
       "1      17.827085\n",
       "2      17.561905\n",
       "3      17.309510\n",
       "4      17.486175\n",
       "         ...    \n",
       "634    24.626700\n",
       "635    24.716140\n",
       "636    24.767230\n",
       "637    24.869455\n",
       "638    24.984560\n",
       "Name: hladina, Length: 639, dtype: float64"
      ]
     },
     "execution_count": 6,
     "metadata": {},
     "output_type": "execute_result"
    }
   ],
   "source": [
    "y = df['hladina']\n",
    "y"
   ]
  },
  {
   "cell_type": "code",
   "execution_count": 27,
   "metadata": {},
   "outputs": [],
   "source": [
    "from sklearn.model_selection import train_test_split\n",
    "dates_train, dates_test, X_train, X_test, y_train, y_test = train_test_split(dates, X, y, test_size=1./3.)"
   ]
  },
  {
   "cell_type": "markdown",
   "metadata": {},
   "source": [
    "#### 4.2 Podpůrné vektory"
   ]
  },
  {
   "cell_type": "code",
   "execution_count": 16,
   "metadata": {},
   "outputs": [],
   "source": [
    "from sklearn.svm import SVR\n",
    "from sklearn.pipeline import make_pipeline\n",
    "from sklearn.preprocessing import StandardScaler\n",
    "import numpy as np"
   ]
  },
  {
   "cell_type": "code",
   "execution_count": 34,
   "metadata": {},
   "outputs": [],
   "source": [
    "svr_rbf = make_pipeline(StandardScaler(), SVR(kernel=\"rbf\", C=100, gamma=0.1, epsilon=0.1))\n",
    "svr_lin = make_pipeline(StandardScaler(), SVR(kernel=\"linear\", C=100, gamma=\"auto\"))\n",
    "svr_poly = make_pipeline(StandardScaler(), SVR(kernel=\"poly\", C=100, gamma=\"auto\", degree=3, epsilon=0.1, coef0=1))\n",
    "svr_c_high = make_pipeline(StandardScaler(), SVR(kernel=\"rbf\", C=10000, gamma=\"auto\"))\n",
    "\n",
    "models = [\n",
    "    svr_rbf,\n",
    "    svr_lin,\n",
    "    #svr_poly,\n",
    "    svr_c_high,\n",
    "]"
   ]
  },
  {
   "cell_type": "code",
   "execution_count": 35,
   "metadata": {},
   "outputs": [
    {
     "name": "stdout",
     "output_type": "stream",
     "text": [
      "0.1409073284102862\n",
      "0.12211932292506156\n",
      "-3.0101939800154973\n"
     ]
    }
   ],
   "source": [
    "for svr in models:\n",
    "    svr.fit(X_train, y_train)\n",
    "    svr_score = svr.score(X_test, y_test)\n",
    "    print(svr_score)"
   ]
  },
  {
   "cell_type": "code",
   "execution_count": 42,
   "metadata": {},
   "outputs": [
    {
     "data": {
      "image/png": "[encoded data removed]",
      "text/plain": [
       "<Figure size 1080x720 with 4 Axes>"
      ]
     },
     "metadata": {
      "needs_background": "light"
     },
     "output_type": "display_data"
    }
   ],
   "source": [
    "import numpy as np\n",
    "import matplotlib.pyplot as plt\n",
    "\n",
    "titles = [\n",
    "    'Std,rbf,C=100,g=0.1,e=0.1',\n",
    "    'Std,lin,C=100,g=auto',\n",
    "    'StdS,C=10000',\n",
    "    ]\n",
    "\n",
    "fig, axes = plt.subplots(nrows=len(models)//4+1, ncols=len(models)%4+1, figsize=(15, 10), sharey=True)\n",
    "for imodel, svr in enumerate(models):\n",
    "    axes[imodel].plot(\n",
    "        dates_test,\n",
    "        y_test,\n",
    "        color='r',\n",
    "        label='realita',\n",
    "    )\n",
    "    axes[imodel].plot(\n",
    "        dates_test,\n",
    "        svr.predict(X_test),\n",
    "        color='b',\n",
    "        label=titles[imodel],\n",
    "    )\n",
    "    axes[imodel].legend(\n",
    "        loc=\"upper left\",\n",
    "        bbox_to_anchor=(0, 1.1),\n",
    "        ncol=1,\n",
    "        fancybox=True,\n",
    "        shadow=True,\n",
    "    )\n",
    "\n",
    "fig.suptitle(\"Support Vector Regression\", fontsize=14)\n",
    "plt.show()"
   ]
  },
  {
   "cell_type": "markdown",
   "metadata": {},
   "source": [
    "#### 4.4 Rozhodovací stromy"
   ]
  },
  {
   "cell_type": "markdown",
   "metadata": {},
   "source": [
    "#### 4.5 Náhodný les"
   ]
  }
 ],
 "metadata": {
  "interpreter": {
   "hash": "bc3c83880fae640cb7980c4f56d19545fc69dc40db0948a29b0ceca08437646b"
  },
  "kernelspec": {
   "display_name": "Python 3.9.10 ('venv': venv)",
   "language": "python",
   "name": "python3"
  },
  "language_info": {
   "codemirror_mode": {
    "name": "ipython",
    "version": 3
   },
   "file_extension": ".py",
   "mimetype": "text/x-python",
   "name": "python",
   "nbconvert_exporter": "python",
   "pygments_lexer": "ipython3",
   "version": "3.9.10"
  },
  "orig_nbformat": 4
 },
 "nbformat": 4,
 "nbformat_minor": 2
}
